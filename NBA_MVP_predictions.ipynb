{
 "cells": [
  {
   "cell_type": "markdown",
   "metadata": {},
   "source": [
    "**Imports and load data**"
   ]
  },
  {
   "cell_type": "code",
   "execution_count": 1,
   "metadata": {
    "colab": {},
    "colab_type": "code",
    "id": "xPrG1wRc7tBb"
   },
   "outputs": [],
   "source": [
    "import numpy as np \n",
    "import pandas as pd \n",
    "from matplotlib import pyplot as plt"
   ]
  },
  {
   "cell_type": "code",
   "execution_count": 2,
   "metadata": {
    "colab": {
     "base_uri": "https://localhost:8080/",
     "height": 139
    },
    "colab_type": "code",
    "id": "rAJGMDJKg-j2",
    "outputId": "8932a4c3-8aaa-4613-ce6e-fc59f69fa769"
   },
   "outputs": [
    {
     "data": {
      "text/plain": [
       "Index(['Unnamed: 0', 'Year', 'Player', 'Pos', 'Age', 'Tm', 'G', 'MP', 'PER',\n",
       "       'TS%', '3PAr', 'FTr', 'ORB%', 'DRB%', 'TRB%', 'AST%', 'STL%', 'BLK%',\n",
       "       'TOV%', 'USG%', 'OWS', 'DWS', 'WS', 'WS/48', 'OBPM', 'DBPM', 'BPM',\n",
       "       'VORP', 'FG', 'FGA', 'FG%', '3P', '3PA', '3P%', '2P', '2PA', '2P%',\n",
       "       'eFG%', 'FT', 'FTA', 'FT%', 'ORB', 'DRB', 'TRB', 'AST', 'STL', 'BLK',\n",
       "       'TOV', 'PF', 'PTS'],\n",
       "      dtype='object')"
      ]
     },
     "execution_count": 2,
     "metadata": {},
     "output_type": "execute_result"
    }
   ],
   "source": [
    "data = pd.read_csv(\"Seasons_stats_complete.csv\")\n",
    "len(data)\n",
    "data.columns"
   ]
  },
  {
   "cell_type": "markdown",
   "metadata": {
    "colab_type": "text",
    "id": "dU9Lqcz68pzi"
   },
   "source": [
    "**Data Cleaning**"
   ]
  },
  {
   "cell_type": "markdown",
   "metadata": {
    "colab_type": "text",
    "id": "BkLNltRp_x1L"
   },
   "source": [
    "Replace field name 'Unnamed: 0' with 'id'"
   ]
  },
  {
   "cell_type": "code",
   "execution_count": 3,
   "metadata": {
    "colab": {
     "base_uri": "https://localhost:8080/",
     "height": 139
    },
    "colab_type": "code",
    "id": "33A0IMU684Uk",
    "outputId": "7f2f0313-2d6d-44ed-fc73-721b8c9c2c3c"
   },
   "outputs": [
    {
     "data": {
      "text/plain": [
       "Index(['id', 'Year', 'Player', 'Pos', 'Age', 'Tm', 'G', 'MP', 'PER', 'TS%',\n",
       "       '3PAr', 'FTr', 'ORB%', 'DRB%', 'TRB%', 'AST%', 'STL%', 'BLK%', 'TOV%',\n",
       "       'USG%', 'OWS', 'DWS', 'WS', 'WS/48', 'OBPM', 'DBPM', 'BPM', 'VORP',\n",
       "       'FG', 'FGA', 'FG%', '3P', '3PA', '3P%', '2P', '2PA', '2P%', 'eFG%',\n",
       "       'FT', 'FTA', 'FT%', 'ORB', 'DRB', 'TRB', 'AST', 'STL', 'BLK', 'TOV',\n",
       "       'PF', 'PTS'],\n",
       "      dtype='object')"
      ]
     },
     "execution_count": 3,
     "metadata": {},
     "output_type": "execute_result"
    }
   ],
   "source": [
    "data.rename(columns={'Unnamed: 0': 'id'}, inplace=True)\n",
    "data.columns\n"
   ]
  },
  {
   "cell_type": "markdown",
   "metadata": {
    "colab_type": "text",
    "id": "lcmJcUkTAB6w"
   },
   "source": [
    "Remove null players"
   ]
  },
  {
   "cell_type": "code",
   "execution_count": 4,
   "metadata": {
    "colab": {
     "base_uri": "https://localhost:8080/",
     "height": 34
    },
    "colab_type": "code",
    "id": "-lHo4uT0-pGY",
    "outputId": "0a26ee50-9af8-4bba-b38e-d3924451c664"
   },
   "outputs": [
    {
     "name": "stdout",
     "output_type": "stream",
     "text": [
      "0\n"
     ]
    }
   ],
   "source": [
    "data = data[~data.Player.isnull()]\n",
    "print (len(data[data.Player == 0])) # Check if empty"
   ]
  },
  {
   "cell_type": "markdown",
   "metadata": {
    "colab_type": "text",
    "id": "iKeTsfrXALbP"
   },
   "source": [
    "Remove datapoints with team 'TOT' (occurs when player changes team mid season) "
   ]
  },
  {
   "cell_type": "code",
   "execution_count": 5,
   "metadata": {
    "colab": {
     "base_uri": "https://localhost:8080/",
     "height": 34
    },
    "colab_type": "code",
    "id": "mo_92Pc0-v59",
    "outputId": "76f4ed44-1229-4f58-85d0-486f964c1b7e"
   },
   "outputs": [
    {
     "name": "stdout",
     "output_type": "stream",
     "text": [
      "0\n"
     ]
    }
   ],
   "source": [
    "data = data[data.Tm != 'TOT']\n",
    "print (len(data[data.Tm == 'TOT'])) # Check if empty"
   ]
  },
  {
   "cell_type": "markdown",
   "metadata": {
    "colab_type": "text",
    "id": "6wxoD2qDBSjY"
   },
   "source": [
    "Filter players with at least 800 min in a season and played at least half of the matches"
   ]
  },
  {
   "cell_type": "code",
   "execution_count": 6,
   "metadata": {
    "colab": {
     "base_uri": "https://localhost:8080/",
     "height": 34
    },
    "colab_type": "code",
    "id": "Phi8_i11Ab2d",
    "outputId": "521bc5a1-99a6-4bd6-dae7-91b79bf8fc48"
   },
   "outputs": [
    {
     "name": "stdout",
     "output_type": "stream",
     "text": [
      "0\n"
     ]
    }
   ],
   "source": [
    "data = data[(data.MP > 800) & (data.G > 40)]\n",
    "print (len(data[(data.MP < 800) | (data.G < 40)])) # Check if empty"
   ]
  },
  {
   "cell_type": "markdown",
   "metadata": {
    "colab_type": "text",
    "id": "s0Y3XS6SBhHo"
   },
   "source": [
    "**Feature Addition**"
   ]
  },
  {
   "cell_type": "markdown",
   "metadata": {
    "colab_type": "text",
    "id": "z2B6q4FEBtGY"
   },
   "source": [
    "Add 'per game' stats"
   ]
  },
  {
   "cell_type": "code",
   "execution_count": 7,
   "metadata": {
    "colab": {
     "base_uri": "https://localhost:8080/",
     "height": 139
    },
    "colab_type": "code",
    "id": "_CAkABmsBpRk",
    "outputId": "691134e8-401a-4a21-ebe0-ab0319894439"
   },
   "outputs": [
    {
     "data": {
      "text/plain": [
       "Index(['id', 'Year', 'Player', 'Pos', 'Age', 'Tm', 'G', 'MP', 'PER', 'TS%',\n",
       "       '3PAr', 'FTr', 'ORB%', 'DRB%', 'TRB%', 'AST%', 'STL%', 'BLK%', 'TOV%',\n",
       "       'USG%', 'OWS', 'DWS', 'WS', 'WS/48', 'OBPM', 'DBPM', 'BPM', 'VORP',\n",
       "       'FG', 'FGA', 'FG%', '3P', '3PA', '3P%', '2P', '2PA', '2P%', 'eFG%',\n",
       "       'FT', 'FTA', 'FT%', 'ORB', 'DRB', 'TRB', 'AST', 'STL', 'BLK', 'TOV',\n",
       "       'PF', 'PTS', 'PPG', 'APG', 'RPG', 'SPG', 'BPG', 'FPG', 'TOVPG'],\n",
       "      dtype='object')"
      ]
     },
     "execution_count": 7,
     "metadata": {},
     "output_type": "execute_result"
    }
   ],
   "source": [
    "data['PPG'] = data['PTS'] / data['G']\n",
    "data['APG'] = data['AST'] / data['G']\n",
    "data['RPG'] = data['TRB'] / data['G']\n",
    "data['SPG'] = data['STL'] / data['G']\n",
    "data['BPG'] = data['BLK'] / data['G']\n",
    "data['FPG'] = data['PF'] / data['G']\n",
    "data['TOVPG'] = data['TOV'] / data['G']\n",
    "data.columns"
   ]
  },
  {
   "cell_type": "markdown",
   "metadata": {
    "colab_type": "text",
    "id": "8m2IadS0B6f4"
   },
   "source": [
    "Add MVP labels"
   ]
  },
  {
   "cell_type": "code",
   "execution_count": 8,
   "metadata": {
    "colab": {},
    "colab_type": "code",
    "id": "5FCSemUKB8-T"
   },
   "outputs": [],
   "source": [
    "# mvp_players = {'Shaquille O\\'Neal*': [2000],\n",
    "#                   'Allen Iverson*': [2001],\n",
    "#                   'Tim Duncan': [2002, 2003],\n",
    "#                   'Kevin Garnett': [2004],\n",
    "#                   'Steve Nash': [2005, 2006],\n",
    "#                   'Dirk Nowitzki': [2007],\n",
    "#                   'Kobe Bryant': [2008],\n",
    "#                   'LeBron James': [2009, 2010, 2012, 2013],\n",
    "#                   'Derrick Rose': [2011],\n",
    "#                   'Kevin Durant': [2014],\n",
    "#                   'Stephen Curry': [2015, 2016],\n",
    "#                   'Russell Westbrook': [2017],\n",
    "#                   'James Harden': [2018],\n",
    "#                   'Giannis Antetokounmpo': [2019]}\n",
    "\n",
    "mvp_players = {'Kareem Abdul-Jabbar*': [1980],\n",
    "                  'Moses Malone*': [1982, 1983],\n",
    "                  'Julius Erving*': [1981],\n",
    "                  'Larry Bird*': [1984, 1985, 1986],\n",
    "                  'Magic Johnson*': [1987, 1989, 1990],\n",
    "                  'Michael Jordan*': [1988, 1991, 1992, 1996, 1998],\n",
    "                  'Charles Barkley*': [1993],\n",
    "                  'Hakeem Olajuwon*': [1994],\n",
    "                  'David Robinson*': [1995],\n",
    "                  'Karl Malone*': [1997, 1999],\n",
    "                  'Shaquille O\\'Neal*': [2000],\n",
    "                  'Allen Iverson*': [2001],\n",
    "                  'Tim Duncan': [2002, 2003],\n",
    "                  'Kevin Garnett': [2004],\n",
    "                  'Steve Nash': [2005, 2006],\n",
    "                  'Dirk Nowitzki': [2007],\n",
    "                  'Kobe Bryant': [2008],\n",
    "                  'LeBron James': [2009, 2010, 2012, 2013],\n",
    "                  'Derrick Rose': [2011],\n",
    "                  'Kevin Durant': [2014],\n",
    "                  'Stephen Curry': [2015, 2016],\n",
    "                  'Russell Westbrook': [2017],\n",
    "                  'James Harden': [2018],\n",
    "                  'Giannis Antetokounmpo': [2019]}\n",
    "data['MVP'] = 0\n",
    "for i, row in data.iterrows():  \n",
    "    for k, v in mvp_players.items():\n",
    "        for year in v:\n",
    "            if row['Player'] != k:\n",
    "                break\n",
    "            elif(row['Year'] == year) & (row['Player'] == k):\n",
    "                data.loc[i, 'MVP'] = 1\n",
    "                break\n",
    "if len(data.Year.unique()) == len(data[data.MVP == True]):\n",
    "  print (\"Check!\")"
   ]
  },
  {
   "cell_type": "markdown",
   "metadata": {
    "colab_type": "text",
    "id": "gt-L5O1tKfX5"
   },
   "source": [
    "Add team wins"
   ]
  },
  {
   "cell_type": "markdown",
   "metadata": {
    "colab_type": "text",
    "id": "Q4W27KDTCmUw"
   },
   "source": [
    "Starts with the year 2000"
   ]
  },
  {
   "cell_type": "code",
   "execution_count": 9,
   "metadata": {
    "colab": {
     "base_uri": "https://localhost:8080/",
     "height": 330
    },
    "colab_type": "code",
    "id": "pN2mRA6yC4gq",
    "outputId": "22632e9b-bfdd-4417-bb37-640e575563cb"
   },
   "outputs": [
    {
     "data": {
      "text/html": [
       "<div>\n",
       "<style scoped>\n",
       "    .dataframe tbody tr th:only-of-type {\n",
       "        vertical-align: middle;\n",
       "    }\n",
       "\n",
       "    .dataframe tbody tr th {\n",
       "        vertical-align: top;\n",
       "    }\n",
       "\n",
       "    .dataframe thead th {\n",
       "        text-align: right;\n",
       "    }\n",
       "</style>\n",
       "<table border=\"1\" class=\"dataframe\">\n",
       "  <thead>\n",
       "    <tr style=\"text-align: right;\">\n",
       "      <th></th>\n",
       "      <th>id</th>\n",
       "      <th>Year</th>\n",
       "      <th>Player</th>\n",
       "      <th>Pos</th>\n",
       "      <th>Age</th>\n",
       "      <th>Tm</th>\n",
       "      <th>G</th>\n",
       "      <th>MP</th>\n",
       "      <th>PER</th>\n",
       "      <th>TS%</th>\n",
       "      <th>...</th>\n",
       "      <th>PF</th>\n",
       "      <th>PTS</th>\n",
       "      <th>PPG</th>\n",
       "      <th>APG</th>\n",
       "      <th>RPG</th>\n",
       "      <th>SPG</th>\n",
       "      <th>BPG</th>\n",
       "      <th>FPG</th>\n",
       "      <th>TOVPG</th>\n",
       "      <th>MVP</th>\n",
       "    </tr>\n",
       "  </thead>\n",
       "  <tbody>\n",
       "    <tr>\n",
       "      <th>14471</th>\n",
       "      <td>14471</td>\n",
       "      <td>2000.0</td>\n",
       "      <td>Tariq Abdul-Wahad</td>\n",
       "      <td>SG</td>\n",
       "      <td>25.0</td>\n",
       "      <td>ORL</td>\n",
       "      <td>46.0</td>\n",
       "      <td>1205.0</td>\n",
       "      <td>14.4</td>\n",
       "      <td>0.484</td>\n",
       "      <td>...</td>\n",
       "      <td>116.0</td>\n",
       "      <td>563.0</td>\n",
       "      <td>12.239130</td>\n",
       "      <td>1.565217</td>\n",
       "      <td>5.195652</td>\n",
       "      <td>1.152174</td>\n",
       "      <td>0.347826</td>\n",
       "      <td>2.521739</td>\n",
       "      <td>1.891304</td>\n",
       "      <td>0</td>\n",
       "    </tr>\n",
       "    <tr>\n",
       "      <th>14473</th>\n",
       "      <td>14473</td>\n",
       "      <td>2000.0</td>\n",
       "      <td>Shareef Abdur-Rahim</td>\n",
       "      <td>SF</td>\n",
       "      <td>23.0</td>\n",
       "      <td>VAN</td>\n",
       "      <td>82.0</td>\n",
       "      <td>3223.0</td>\n",
       "      <td>20.2</td>\n",
       "      <td>0.547</td>\n",
       "      <td>...</td>\n",
       "      <td>244.0</td>\n",
       "      <td>1663.0</td>\n",
       "      <td>20.280488</td>\n",
       "      <td>3.304878</td>\n",
       "      <td>10.060976</td>\n",
       "      <td>1.085366</td>\n",
       "      <td>1.060976</td>\n",
       "      <td>2.975610</td>\n",
       "      <td>3.036585</td>\n",
       "      <td>0</td>\n",
       "    </tr>\n",
       "    <tr>\n",
       "      <th>14475</th>\n",
       "      <td>14475</td>\n",
       "      <td>2000.0</td>\n",
       "      <td>Ray Allen</td>\n",
       "      <td>SG</td>\n",
       "      <td>24.0</td>\n",
       "      <td>MIL</td>\n",
       "      <td>82.0</td>\n",
       "      <td>3070.0</td>\n",
       "      <td>20.6</td>\n",
       "      <td>0.570</td>\n",
       "      <td>...</td>\n",
       "      <td>187.0</td>\n",
       "      <td>1809.0</td>\n",
       "      <td>22.060976</td>\n",
       "      <td>3.756098</td>\n",
       "      <td>4.378049</td>\n",
       "      <td>1.341463</td>\n",
       "      <td>0.231707</td>\n",
       "      <td>2.280488</td>\n",
       "      <td>2.231707</td>\n",
       "      <td>0</td>\n",
       "    </tr>\n",
       "    <tr>\n",
       "      <th>14477</th>\n",
       "      <td>14477</td>\n",
       "      <td>2000.0</td>\n",
       "      <td>John Amaechi</td>\n",
       "      <td>C</td>\n",
       "      <td>29.0</td>\n",
       "      <td>ORL</td>\n",
       "      <td>80.0</td>\n",
       "      <td>1684.0</td>\n",
       "      <td>13.2</td>\n",
       "      <td>0.505</td>\n",
       "      <td>...</td>\n",
       "      <td>161.0</td>\n",
       "      <td>836.0</td>\n",
       "      <td>10.450000</td>\n",
       "      <td>1.187500</td>\n",
       "      <td>3.325000</td>\n",
       "      <td>0.437500</td>\n",
       "      <td>0.462500</td>\n",
       "      <td>2.012500</td>\n",
       "      <td>1.737500</td>\n",
       "      <td>0</td>\n",
       "    </tr>\n",
       "    <tr>\n",
       "      <th>14478</th>\n",
       "      <td>14478</td>\n",
       "      <td>2000.0</td>\n",
       "      <td>Derek Anderson</td>\n",
       "      <td>SG</td>\n",
       "      <td>25.0</td>\n",
       "      <td>LAC</td>\n",
       "      <td>64.0</td>\n",
       "      <td>2201.0</td>\n",
       "      <td>16.9</td>\n",
       "      <td>0.542</td>\n",
       "      <td>...</td>\n",
       "      <td>149.0</td>\n",
       "      <td>1080.0</td>\n",
       "      <td>16.875000</td>\n",
       "      <td>3.437500</td>\n",
       "      <td>4.031250</td>\n",
       "      <td>1.406250</td>\n",
       "      <td>0.171875</td>\n",
       "      <td>2.328125</td>\n",
       "      <td>2.609375</td>\n",
       "      <td>0</td>\n",
       "    </tr>\n",
       "  </tbody>\n",
       "</table>\n",
       "<p>5 rows × 58 columns</p>\n",
       "</div>"
      ],
      "text/plain": [
       "          id    Year               Player Pos   Age   Tm     G      MP   PER  \\\n",
       "14471  14471  2000.0    Tariq Abdul-Wahad  SG  25.0  ORL  46.0  1205.0  14.4   \n",
       "14473  14473  2000.0  Shareef Abdur-Rahim  SF  23.0  VAN  82.0  3223.0  20.2   \n",
       "14475  14475  2000.0            Ray Allen  SG  24.0  MIL  82.0  3070.0  20.6   \n",
       "14477  14477  2000.0         John Amaechi   C  29.0  ORL  80.0  1684.0  13.2   \n",
       "14478  14478  2000.0       Derek Anderson  SG  25.0  LAC  64.0  2201.0  16.9   \n",
       "\n",
       "         TS%  ...     PF     PTS        PPG       APG        RPG       SPG  \\\n",
       "14471  0.484  ...  116.0   563.0  12.239130  1.565217   5.195652  1.152174   \n",
       "14473  0.547  ...  244.0  1663.0  20.280488  3.304878  10.060976  1.085366   \n",
       "14475  0.570  ...  187.0  1809.0  22.060976  3.756098   4.378049  1.341463   \n",
       "14477  0.505  ...  161.0   836.0  10.450000  1.187500   3.325000  0.437500   \n",
       "14478  0.542  ...  149.0  1080.0  16.875000  3.437500   4.031250  1.406250   \n",
       "\n",
       "            BPG       FPG     TOVPG  MVP  \n",
       "14471  0.347826  2.521739  1.891304    0  \n",
       "14473  1.060976  2.975610  3.036585    0  \n",
       "14475  0.231707  2.280488  2.231707    0  \n",
       "14477  0.462500  2.012500  1.737500    0  \n",
       "14478  0.171875  2.328125  2.609375    0  \n",
       "\n",
       "[5 rows x 58 columns]"
      ]
     },
     "execution_count": 9,
     "metadata": {},
     "output_type": "execute_result"
    }
   ],
   "source": [
    "data = data[data.Year >= 2000]\n",
    "data.head() # Check first 5 entries"
   ]
  },
  {
   "cell_type": "code",
   "execution_count": 10,
   "metadata": {
    "colab": {},
    "colab_type": "code",
    "id": "tydKoDxqFjj3"
   },
   "outputs": [],
   "source": [
    "teams_wins = {'ATL': {2000:28, 2001:25, 2002:33, 2003:35, 2004:28, 2005:13, 2006:26, 2007:30, 2008:37, 2009:47, 2010:53, 2011:44, 2012:40, 2013:44, 2014:38, 2015:60, 2016:48, 2017:43, 2018:24, 2019:29},\n",
    "             'BOS': {2000:35, 2001:36, 2002:49, 2003:44, 2004:36, 2005:45, 2006:33, 2007:24, 2008:66, 2009:62, 2010:50, 2011:56, 2012:39, 2013:41, 2014:25, 2015:40, 2016:48, 2017:53, 2018:55, 2019:49},\n",
    "             'BRK': {2013:49, 2014:44, 2015:38, 2016:21, 2017:20, 2018:28, 2019:42},\n",
    "              'CHA': {2005:18, 2006:26, 2007:33, 2008:32, 2009:35, 2010:44, 2011:34, 2012:7, 2013:21, 2014:43},\n",
    "             'NJN': {2000:31, 2001:26, 2002:52, 2003:49, 2004:47, 2005:42, 2006:49, 2007:41, 2008:34, 2009:34, 2010:12, 2011:24, 2012:22},\n",
    "             'CHH': {2000:49, 2001:46, 2002:44},\n",
    "             'CHI': {2000:17, 2001:15, 2002:21, 2003:30, 2004:23, 2005:47, 2006:41, 2007:49, 2008:33, 2009:41, 2010:41, 2011:62, 2012:50, 2013:45, 2014:48, 2015:50, 2016:42, 2017:41, 2018:27, 2019:22},\n",
    "             'CHO': {2015:33, 2016:48, 2017:36, 2018:36, 2019:39},\n",
    "             'CLE': {2000:32, 2001:30, 2002:29, 2003:17, 2004:35, 2005:42, 2006:50, 2007:50, 2008:45, 2009:66, 2010:61, 2011:19, 2012:21, 2013:24, 2014:33, 2015:53, 2016:57, 2017:51, 2018:50, 2019:19},\n",
    "             'DAL': {2000:40, 2001:53, 2002:57, 2003:60, 2004:52, 2005:58, 2006:60, 2007:67, 2008:51, 2009:50, 2010:55, 2011:57, 2012:36, 2013:41, 2014:49, 2015:50, 2016:42, 2017:33, 2018:24, 2019:33},\n",
    "             'DEN': {2000:35, 2001:40, 2002:27, 2003:17, 2004:43, 2005:49, 2006:44, 2007:45, 2008:50, 2009:54, 2010:53, 2011:50, 2012:38, 2013:57, 2014:36, 2015:30, 2016:33, 2017:40, 2018:46, 2019:54},\n",
    "             'DET': {2000:42, 2001:32, 2002:50, 2003:50, 2004:54, 2005:54, 2006:64, 2007:53, 2008:59, 2009:39, 2010:27, 2011:30, 2012:25, 2013:29, 2014:29, 2015:32, 2016:44, 2017:37, 2018:39, 2019:41},\n",
    "             'GSW': {2000:19, 2001:17, 2002:21, 2003:38, 2004:37, 2005:34, 2006:34, 2007:42, 2008:48, 2009:29, 2010:26, 2011:36, 2012:23, 2013:47, 2014:51, 2015:67, 2016:73, 2017:67, 2018:58, 2019:57},\n",
    "             'HOU': {2000:34, 2001:45, 2002:28, 2003:43, 2004:45, 2005:51, 2006:34, 2007:52, 2008:55, 2009:53, 2010:42, 2011:43, 2012:34, 2013:45, 2014:54, 2015:56, 2016:41, 2017:55, 2018:65, 2019:53},\n",
    "             'IND': {2000:56, 2001:41, 2002:42, 2003:48, 2004:61, 2005:44, 2006:41, 2007:35, 2008:36, 2009:36, 2010:32, 2011:37, 2012:42, 2013:49, 2014:56, 2015:38, 2016:45, 2017:42, 2018:48, 2019:48},\n",
    "             'LAC': {2000:15, 2001:31, 2002:39, 2003:27, 2004:28, 2005:37, 2006:47, 2007:40, 2008:23, 2009:19, 2010:29, 2011:32, 2012:40, 2013:56, 2014:57, 2015:56, 2016:53, 2017:51, 2018:42, 2019:48},\n",
    "             'LAL': {2000:67, 2001:56, 2002:58, 2003:50, 2004:56, 2005:34, 2006:45, 2007:42, 2008:57, 2009:65, 2010:57, 2011:57, 2012:41, 2013:45, 2014:27, 2015:21, 2016:17, 2017:26, 2018:35, 2019:37},\n",
    "             'MEM': {2002:23, 2003:28, 2004:50, 2005:45, 2006:49, 2007:22, 2008:22, 2009:24, 2010:40, 2011:46, 2012:41, 2013:56, 2014:50, 2015:55, 2016:42, 2017:43, 2018:22, 2019:33},\n",
    "             'VAN': {2000:22, 2001:23},\n",
    "              'MIA': {2000:52, 2001:50, 2002:36, 2003:25, 2004:42, 2005:59, 2006:52, 2007:44, 2008:15, 2009:43, 2010:47, 2011:58, 2012:46, 2013:66, 2014:54, 2015:37, 2016:48, 2017:41, 2018:44, 2019:39},\n",
    "             'MIL': {2000:42, 2001:52, 2002:41, 2003:42, 2004:41, 2005:30, 2006:40, 2007:28, 2008:26, 2009:34, 2010:46, 2011:35, 2012:31, 2013:38, 2014:15, 2015:41, 2016:33, 2017:42, 2018:44, 2019:60},\n",
    "             'MIN': {2000:50, 2001:47, 2002:50, 2003:51, 2004:58, 2005:44, 2006:33, 2007:32, 2008:22, 2009:24, 2010:15, 2011:17, 2012:26, 2013:31, 2014:40, 2015:16, 2016:29, 2017:31, 2018:47, 2019:36},\n",
    "             'NOH': {2003:47, 2004:41, 2005:18, 2008:56, 2009:49, 2010:37, 2011:46, 2012:21, 2013:27},\n",
    "             'NOK': {2006:38, 2007:39},\n",
    "             'NOP': {2014:34, 2015:45, 2016:30, 2017:34, 2018:48, 2019:33},\n",
    "             'NYK': {2000:50, 2001:48, 2002:30, 2003:37, 2004:39, 2005:33, 2006:23, 2007:33, 2008:23, 2009:32, 2010:29, 2011:42, 2012:36, 2013:54, 2014:37, 2015:17, 2016:32, 2017:31, 2018:29, 2019:17},\n",
    "             'OKC': {2009:23, 2010:50, 2011:55, 2012:47, 2013:60, 2014:59, 2015:45, 2016:55, 2017:47, 2018:48, 2019:49},\n",
    "             'ORL': {2000:41, 2001:43, 2002:44, 2003:42, 2004:21, 2005:36, 2006:36, 2007:40, 2008:52, 2009:59, 2010:59, 2011:52, 2012:37, 2013:20, 2014:23, 2015:25, 2016:35, 2017:29, 2018:25, 2019:42},\n",
    "             'PHI': {2000:49, 2001:56, 2002:43, 2003:48, 2004:33, 2005:43, 2006:38, 2007:35, 2008:40, 2009:41, 2010:27, 2011:41, 2012:35, 2013:34, 2014:19, 2015:18, 2016:10, 2017:28, 2018:52, 2019:51},\n",
    "             'PHO': {2000:53, 2001:51, 2002:36, 2003:44, 2004:29, 2005:62, 2006:54, 2007:61, 2008:55, 2009:46, 2010:54, 2011:40, 2012:33, 2013:25, 2014:48, 2015:39, 2016:23, 2017:24, 2018:21, 2019:19},\n",
    "             'POR': {2000:59, 2001:50, 2002:49, 2003:50, 2004:41, 2005:27, 2006:21, 2007:32, 2008:41, 2009:54, 2010:50, 2011:48, 2012:28, 2013:33, 2014:54, 2015:51, 2016:44, 2017:41, 2018:49, 2019:53},\n",
    "             'SAC': {2000:44, 2001:55, 2002:61, 2003:59, 2004:55, 2005:50, 2006:44, 2007:33, 2008:38, 2009:17, 2010:25, 2011:24, 2012:22, 2013:28, 2014:28, 2015:29, 2016:33, 2017:32, 2018:27, 2019:39},\n",
    "             'SAS': {2000:53, 2001:58, 2002:58, 2003:60, 2004:57, 2005:59, 2006:63, 2007:58, 2008:56, 2009:54, 2010:50, 2011:61, 2012:50, 2013:58, 2014:62, 2015:55, 2016:67, 2017:61, 2018:47, 2019:48},\n",
    "             'SEA': {2000:45, 2001:44, 2002:45, 2003:40, 2004:37, 2005:52, 2006:35, 2007:31, 2008:20},\n",
    "             'TOR': {2000:45, 2001:47, 2002:42, 2003:24, 2004:33, 2005:33, 2006:27, 2007:47, 2008:41, 2009:33, 2010:40, 2011:22, 2012:23, 2013:34, 2014:48, 2015:49, 2016:56, 2017:51, 2018:59, 2019:58},\n",
    "             'UTA': {2000:55, 2001:53, 2002:44, 2003:47, 2004:42, 2005:26, 2006:41, 2007:51, 2008:54, 2009:48, 2010:53, 2011:39, 2012:36, 2013:43, 2014:25, 2015:38, 2016:40, 2017:51, 2018:48, 2019:50},\n",
    "             'WAS': {2000:29, 2001:19, 2002:37, 2003:37, 2004:25, 2005:45, 2006:42, 2007:41, 2008:43, 2009:19, 2010:26, 2011:23, 2012:20, 2013:29, 2014:44, 2015:46, 2016:41, 2017:49, 2018:43, 2019:32}}\n",
    "\n",
    "for i, row in data.iterrows():  \n",
    "    for k, v in teams_wins.items():\n",
    "        for year, value in v.items():\n",
    "            if ((row['Tm'] == k) & (row['Year'] == year)):\n",
    "                data.loc[i, 'Tm_Wins'] = value"
   ]
  },
  {
   "cell_type": "code",
   "execution_count": 11,
   "metadata": {
    "colab": {
     "base_uri": "https://localhost:8080/",
     "height": 156
    },
    "colab_type": "code",
    "id": "kg0DQnH1FiSg",
    "outputId": "9e8f2aab-649a-4281-ec4f-e7d065700417"
   },
   "outputs": [
    {
     "data": {
      "text/plain": [
       "Index(['id', 'Year', 'Player', 'Pos', 'Age', 'Tm', 'G', 'MP', 'PER', 'TS%',\n",
       "       '3PAr', 'FTr', 'ORB%', 'DRB%', 'TRB%', 'AST%', 'STL%', 'BLK%', 'TOV%',\n",
       "       'USG%', 'OWS', 'DWS', 'WS', 'WS/48', 'OBPM', 'DBPM', 'BPM', 'VORP',\n",
       "       'FG', 'FGA', 'FG%', '3P', '3PA', '3P%', '2P', '2PA', '2P%', 'eFG%',\n",
       "       'FT', 'FTA', 'FT%', 'ORB', 'DRB', 'TRB', 'AST', 'STL', 'BLK', 'TOV',\n",
       "       'PF', 'PTS', 'PPG', 'APG', 'RPG', 'SPG', 'BPG', 'FPG', 'TOVPG', 'MVP',\n",
       "       'Tm_Wins'],\n",
       "      dtype='object')"
      ]
     },
     "execution_count": 11,
     "metadata": {},
     "output_type": "execute_result"
    }
   ],
   "source": [
    "data.columns"
   ]
  },
  {
   "cell_type": "markdown",
   "metadata": {
    "colab_type": "text",
    "id": "xJrQz1VZHqhY"
   },
   "source": [
    "Get MVP data"
   ]
  },
  {
   "cell_type": "code",
   "execution_count": 12,
   "metadata": {
    "colab": {
     "base_uri": "https://localhost:8080/",
     "height": 69
    },
    "colab_type": "code",
    "id": "mPTMV9wHHsHp",
    "outputId": "2b78150b-42ed-4bb0-fae0-a5d89a2aa273"
   },
   "outputs": [
    {
     "data": {
      "text/plain": [
       "Index(['id', 'Player', 'Year', 'BPM', 'PER', 'WS', 'VORP', 'PPG', 'APG', 'RPG',\n",
       "       'Tm_Wins', 'MVP', 'TS%', 'USG%', 'TOVPG'],\n",
       "      dtype='object')"
      ]
     },
     "execution_count": 12,
     "metadata": {},
     "output_type": "execute_result"
    }
   ],
   "source": [
    "data_mvp = data[['id', 'Player', 'Year', 'BPM', 'PER', 'WS', 'VORP', 'PPG', 'APG', 'RPG',\n",
    "                 'Tm_Wins', 'MVP', 'TS%', 'USG%', 'TOVPG']]\n",
    "data_mvp.columns\n"
   ]
  },
  {
   "cell_type": "code",
   "execution_count": 13,
   "metadata": {
    "colab": {
     "base_uri": "https://localhost:8080/",
     "height": 69
    },
    "colab_type": "code",
    "id": "Y1KylEv7IGM5",
    "outputId": "aaf48fe3-8d9d-42c9-d03b-50e1c68079bd"
   },
   "outputs": [
    {
     "name": "stdout",
     "output_type": "stream",
     "text": [
      "(5407, 15)\n",
      "20\n",
      "% of MVP 0.369890882189754\n"
     ]
    }
   ],
   "source": [
    "data_mvp = data_mvp.fillna(0)\n",
    "print (data_mvp.shape)\n",
    "print (len(data_mvp[data_mvp.MVP == 1]))\n",
    "print ('% of MVP', (len(data_mvp[data_mvp.MVP == 1]) / data_mvp.shape[0])*100.0)"
   ]
  },
  {
   "cell_type": "code",
   "execution_count": 14,
   "metadata": {
    "colab": {},
    "colab_type": "code",
    "id": "5DFrR48EIKac"
   },
   "outputs": [],
   "source": [
    "from sklearn.model_selection import train_test_split\n",
    "import sklearn.metrics as metrics\n",
    "from sklearn.model_selection import cross_val_score, GridSearchCV\n",
    "\n",
    "from sklearn.svm import SVC\n",
    "from sklearn.ensemble import RandomForestClassifier, BaggingClassifier, AdaBoostClassifier\n",
    "from sklearn.neural_network import MLPClassifier\n",
    "from sklearn.linear_model import LogisticRegression"
   ]
  },
  {
   "cell_type": "markdown",
   "metadata": {
    "colab_type": "text",
    "id": "hl2hLuNNIsHM"
   },
   "source": [
    "**Split data**"
   ]
  },
  {
   "cell_type": "code",
   "execution_count": 15,
   "metadata": {
    "colab": {
     "base_uri": "https://localhost:8080/",
     "height": 52
    },
    "colab_type": "code",
    "id": "ODxAD18wfHfS",
    "outputId": "5f933896-130d-4e07-8a5d-41998567b7d9"
   },
   "outputs": [
    {
     "name": "stdout",
     "output_type": "stream",
     "text": [
      "Training set size: 3844\n",
      "Testing set size: 1282\n"
     ]
    }
   ],
   "source": [
    "year = 2019\n",
    "\n",
    "rest = data_mvp[data_mvp.Year != year]\n",
    "withdrawn = data_mvp[data_mvp.Year == year]\n",
    "\n",
    "train, test = train_test_split(rest, test_size = 0.25, random_state = 18)\n",
    "\n",
    "xtrain = train[['Tm_Wins', 'PPG', 'VORP', 'WS', 'BPM', 'PER']]\n",
    "ytrain = train[['MVP']]\n",
    "\n",
    "xtest_names = test[['Player']]\n",
    "xtest = test[['Tm_Wins', 'PPG', 'VORP', 'WS', 'BPM', 'PER']]\n",
    "ytest = test[['MVP']]\n",
    "\n",
    "\n",
    "\n",
    "print(\"Training set size: %.0f\" % len(xtrain))\n",
    "print(\"Testing set size: %.0f\" % len(xtest))"
   ]
  },
  {
   "cell_type": "markdown",
   "metadata": {},
   "source": [
    "**SMOTE to balance out data** "
   ]
  },
  {
   "cell_type": "code",
   "execution_count": 16,
   "metadata": {
    "colab": {},
    "colab_type": "code",
    "id": "GeayXQIotg9Y"
   },
   "outputs": [],
   "source": [
    "from imblearn.over_sampling import BorderlineSMOTE, SMOTE, ADASYN\n",
    "\n",
    "# sm = BorderlineSMOTE(random_state = 0)\n",
    "sm = SMOTE(random_state=0)\n",
    "# sm = ADASYN(random_state = 0)\n",
    "xtrain, ytrain = sm.fit_resample(xtrain.values, ytrain.values.ravel())\n",
    "xtrain = pd.DataFrame(xtrain)\n",
    "ytrain = pd.DataFrame(ytrain)"
   ]
  },
  {
   "cell_type": "markdown",
   "metadata": {
    "colab_type": "text",
    "id": "m9GfRTOcZZo2"
   },
   "source": [
    "**Tuning Hyperparameters**"
   ]
  },
  {
   "cell_type": "code",
   "execution_count": 17,
   "metadata": {
    "colab": {},
    "colab_type": "code",
    "id": "KCH4Ob6GZgMf"
   },
   "outputs": [],
   "source": [
    "model_params = {\n",
    "    'svm': {\n",
    "        'model': SVC(gamma='auto'),\n",
    "        'params': {\n",
    "            'C': [1, 10, 50, 100], \n",
    "            'kernel': ['rbf', 'sigmoid', 'poly'],\n",
    "            'degree': [3, 6, 9]\n",
    "        }\n",
    "    },\n",
    "    'random forest': {\n",
    "        'model': BaggingClassifier(),\n",
    "        'params': {\n",
    "            'n_estimators': [10, 25, 50, 75, 100],\n",
    "            'max_features': [1.0, 2, 4, 6],\n",
    "            'bootstrap': [True, False]\n",
    "        }\n",
    "    },\n",
    "    'dnn': {\n",
    "        'model': MLPClassifier(solver='adam'),\n",
    "        'params': {\n",
    "            'hidden_layer_sizes': [(100,), (75, 25), (25,10)],\n",
    "            'activation': ['logistic', 'tanh', 'relu'], \n",
    "            'learning_rate': ['constant', 'invscaling', 'adaptive']\n",
    "        }\n",
    "    }\n",
    "}"
   ]
  },
  {
   "cell_type": "code",
   "execution_count": 18,
   "metadata": {
    "colab": {},
    "colab_type": "code",
    "id": "972qXmd0mR5Q"
   },
   "outputs": [],
   "source": [
    "# all_scores = [] \n",
    "# for model_name, mp in model_params.items(): \n",
    "#   clf = GridSearchCV(mp['model'], mp['params'], cv = 3, return_train_score = False)\n",
    "#   clf.fit(xtrain, ytrain.values.ravel())\n",
    "#   all_scores.append({\n",
    "#       'model': model_name, \n",
    "#       'best_score': clf.best_score_,\n",
    "#       'best_params': clf.best_params_\n",
    "#   })\n",
    "\n",
    "# cv_scores = pd.DataFrame(all_scores, columns=['model', 'best_score', 'best_params'])\n"
   ]
  },
  {
   "cell_type": "code",
   "execution_count": 19,
   "metadata": {
    "colab": {},
    "colab_type": "code",
    "id": "3XYVAO7lhXgo"
   },
   "outputs": [],
   "source": [
    "# cv_scores = pd.DataFrame(scores, columns=['model', 'best_score', 'best_params'])\n",
    "# clf.best_params_\n",
    "\n",
    "# results = pd.DataFrame(clf.cv_results_)\n",
    "# results"
   ]
  },
  {
   "cell_type": "markdown",
   "metadata": {},
   "source": [
    "**Test for Linear Separability**"
   ]
  },
  {
   "cell_type": "code",
   "execution_count": 20,
   "metadata": {
    "colab": {},
    "colab_type": "code",
    "id": "I2zntI9xVuW9"
   },
   "outputs": [],
   "source": [
    "from sklearn.cluster import KMeans\n",
    "\n",
    "def plot_kmeans(data, k, name):\n",
    "  \"\"\"\n",
    "  Inputs: Data - features with the last column being labels \n",
    "          dim - dimensions of the features \n",
    "          k - # of clusters to compute \n",
    "  \"\"\"\n",
    "  x = data\n",
    "  \n",
    "  # Instatiate and fit data to kmeans\n",
    "  km = KMeans(n_clusters=k, init='random', n_init=10, max_iter=500, tol=1e-04, random_state=0)\n",
    "  km.fit(x)\n",
    "  y = km.predict(x)\n",
    "\n",
    "  # 2D plot of kMeans \n",
    "  plt.scatter(x[:, 0], x[:, 1], c=y, s=50, cmap='viridis') # plotting x variables\n",
    "\n",
    "  #plotting centroids\n",
    "  plt.scatter(km.cluster_centers_[:,0], km.cluster_centers_[:,1], c='red', s=250, label='centroids') \n",
    "  \n",
    "  plt.legend()\n",
    "  plt.title(name)\n",
    "  plt.show()\n",
    "  print (km.score(pca_x_test))\n",
    "  # print cluster centers \n",
    "  print (\"\\n\")\n",
    "  print (\"Cluster centers:\", km.cluster_centers_)\n",
    "  print (\"\\n\")\n",
    "  print (\"Labels:\", km.labels_)"
   ]
  },
  {
   "cell_type": "code",
   "execution_count": 21,
   "metadata": {
    "colab": {
     "base_uri": "https://localhost:8080/",
     "height": 420
    },
    "colab_type": "code",
    "id": "L3vFWnLsV267",
    "outputId": "975b3f8c-9175-4483-920e-ba3bee49bf9e"
   },
   "outputs": [
    {
     "data": {
      "image/png": "[encoded data removed]",
      "text/plain": [
       "<Figure size 432x288 with 1 Axes>"
      ]
     },
     "metadata": {
      "needs_background": "light"
     },
     "output_type": "display_data"
    },
    {
     "name": "stdout",
     "output_type": "stream",
     "text": [
      "-207977.25895556525\n",
      "\n",
      "\n",
      "Cluster centers: [[-16.39953763  -1.12587298]\n",
      " [ 18.77907838   1.28923494]]\n",
      "\n",
      "\n",
      "Labels: [1 1 1 ... 0 0 0]\n"
     ]
    }
   ],
   "source": [
    "from sklearn.decomposition import PCA\n",
    "pca_x = PCA(n_components=2).fit_transform(xtrain)\n",
    "pca_x_test = PCA(n_components=2).fit_transform(xtest)\n",
    "plot_kmeans(pca_x, 2, 'NBA Stats')\n"
   ]
  },
  {
   "cell_type": "markdown",
   "metadata": {},
   "source": [
    "**Train and evaluate models**"
   ]
  },
  {
   "cell_type": "code",
   "execution_count": 22,
   "metadata": {
    "colab": {},
    "colab_type": "code",
    "id": "RNGLA9pvhpvZ"
   },
   "outputs": [],
   "source": [
    "def scores(model):\n",
    "    \n",
    "    model.fit(xtrain, ytrain.values.ravel())\n",
    "    y_pred = model.predict(xtest)\n",
    "    \n",
    "    print(\"Accuracy score: %.3f\" % metrics.accuracy_score(ytest, y_pred))\n",
    "    print(\"Recall: %.3f\" % metrics.recall_score(ytest, y_pred))\n",
    "    print(\"Precision: %.3f\" % metrics.precision_score(ytest, y_pred))\n",
    "    print(\"F1: %.3f\" % metrics.f1_score(ytest, y_pred))\n",
    "    \n",
    "    proba = model.predict_proba(xtest)\n",
    "    print(\"Log loss: %.3f\" % metrics.log_loss(ytest, proba))\n",
    "\n",
    "    pos_prob = proba[:, 1]\n",
    "    print(\"Area under ROC curve: %.3f\" % metrics.roc_auc_score(ytest, pos_prob))\n",
    "    \n",
    "    cv = cross_val_score(model, xtest, ytest.values.ravel(), cv = 3, scoring = 'accuracy')\n",
    "    print(\"Accuracy (cross validation score): %0.3f (+/- %0.3f)\" % (cv.mean(), cv.std() * 2))\n",
    "    \n",
    "    return y_pred"
   ]
  },
  {
   "cell_type": "code",
   "execution_count": 24,
   "metadata": {
    "colab": {
     "base_uri": "https://localhost:8080/",
     "height": 139
    },
    "colab_type": "code",
    "id": "_0h48Qf-G3ve",
    "outputId": "fa4a4acd-18d3-4024-fcc3-429425f5a62c"
   },
   "outputs": [
    {
     "name": "stdout",
     "output_type": "stream",
     "text": [
      "Accuracy score: 0.986\n",
      "Recall: 0.500\n",
      "Precision: 0.111\n",
      "F1: 0.182\n",
      "Log loss: 0.050\n",
      "Area under ROC curve: 0.981\n",
      "Accuracy (cross validation score): 0.997 (+/- 0.002)\n"
     ]
    }
   ],
   "source": [
    "svc = SVC(C=100, kernel='rbf', probability=True)\n",
    "y_svc = scores(svc)"
   ]
  },
  {
   "cell_type": "code",
   "execution_count": 25,
   "metadata": {
    "colab": {
     "base_uri": "https://localhost:8080/",
     "height": 298
    },
    "colab_type": "code",
    "id": "r9RRT2vf0UFD",
    "outputId": "5d7c5c06-adb2-47ed-a0ef-d194e47ca246"
   },
   "outputs": [
    {
     "name": "stdout",
     "output_type": "stream",
     "text": [
      "Accuracy score: 0.972\n",
      "Recall: 0.500\n",
      "Precision: 0.056\n",
      "F1: 0.100\n",
      "Log loss: 0.080\n",
      "Area under ROC curve: 0.983\n",
      "Accuracy (cross validation score): 0.994 (+/- 0.008)\n"
     ]
    }
   ],
   "source": [
    "log = LogisticRegression(C=100)\n",
    "y_log = scores(log)"
   ]
  },
  {
   "cell_type": "code",
   "execution_count": 26,
   "metadata": {
    "colab": {
     "base_uri": "https://localhost:8080/",
     "height": 173
    },
    "colab_type": "code",
    "id": "S5a28zL-nKc5",
    "outputId": "9de08fc0-a354-4e6e-c3d0-0bd9073b2b9b"
   },
   "outputs": [
    {
     "name": "stdout",
     "output_type": "stream",
     "text": [
      "Accuracy score: 0.991\n",
      "Recall: 0.500\n",
      "Precision: 0.182\n",
      "F1: 0.267\n",
      "Log loss: 0.020\n",
      "Area under ROC curve: 0.991\n",
      "Accuracy (cross validation score): 0.995 (+/- 0.004)\n",
      "Kawhi Leonard 1\n",
      "Karl Malone* 1\n",
      "Kobe Bryant 1\n",
      "LeBron James 1\n",
      "Tim Duncan 1\n",
      "Dirk Nowitzki 1\n",
      "James Harden 1\n",
      "Kawhi Leonard 1\n",
      "Sam Cassell 1\n",
      "Chris Paul 1\n",
      "Dirk Nowitzki 1\n"
     ]
    }
   ],
   "source": [
    "rf = BaggingClassifier(n_estimators=75, max_features=4)\n",
    "y_rf = scores(rf)\n",
    "\n",
    "for name, mvp in zip(xtest_names['Player'], y_rf):\n",
    "  if mvp == 1:\n",
    "    print (name, mvp)"
   ]
  },
  {
   "cell_type": "code",
   "execution_count": 27,
   "metadata": {
    "colab": {
     "base_uri": "https://localhost:8080/",
     "height": 193
    },
    "colab_type": "code",
    "id": "iuqb_H1DoAlK",
    "outputId": "d812d58e-00ef-45ef-e19e-22702de29b74"
   },
   "outputs": [
    {
     "name": "stdout",
     "output_type": "stream",
     "text": [
      "Accuracy score: 0.985\n",
      "Recall: 0.500\n",
      "Precision: 0.105\n",
      "F1: 0.174\n",
      "Log loss: 0.034\n",
      "Area under ROC curve: 0.975\n",
      "Accuracy (cross validation score): 0.997 (+/- 0.002)\n",
      "Kawhi Leonard 1\n",
      "Shawn Marion 1\n",
      "Karl Malone* 1\n",
      "Kobe Bryant 1\n",
      "Rasheed Wallace 1\n",
      "Dirk Nowitzki 1\n",
      "LeBron James 1\n",
      "Tim Duncan 1\n",
      "LeBron James 1\n",
      "Gerald Wallace 1\n",
      "Chris Paul 1\n",
      "James Harden 1\n",
      "Stephen Curry 1\n",
      "LeBron James 1\n",
      "Sam Cassell 1\n",
      "Shawn Marion 1\n",
      "Chris Paul 1\n",
      "Chauncey Billups 1\n",
      "Dirk Nowitzki 1\n"
     ]
    }
   ],
   "source": [
    "dnn = MLPClassifier(hidden_layer_sizes=(75,25), activation='tanh', learning_rate='invscaling', early_stopping=True)\n",
    "y_dnn = scores(dnn)\n",
    "\n",
    "for name, mvp in zip(xtest_names['Player'], y_dnn):\n",
    "  if mvp == 1:\n",
    "    print (name, mvp)"
   ]
  },
  {
   "cell_type": "markdown",
   "metadata": {},
   "source": [
    "**Predictions on withdrawn data**"
   ]
  },
  {
   "cell_type": "code",
   "execution_count": 28,
   "metadata": {
    "colab": {
     "base_uri": "https://localhost:8080/",
     "height": 121
    },
    "colab_type": "code",
    "id": "Rgp_aDGtpXh5",
    "outputId": "4410bc0c-f0e0-4340-a06f-f5461d04460b"
   },
   "outputs": [
    {
     "data": {
      "text/plain": [
       "25358         Steven Adams\n",
       "25359          Bam Adebayo\n",
       "25362    LaMarcus Aldridge\n",
       "25365        Jarrett Allen\n",
       "25367      Al-Farouq Aminu\n",
       "Name: Player, dtype: object"
      ]
     },
     "execution_count": 28,
     "metadata": {},
     "output_type": "execute_result"
    }
   ],
   "source": [
    "players = withdrawn.iloc[:,1]\n",
    "players.head()"
   ]
  },
  {
   "cell_type": "code",
   "execution_count": 29,
   "metadata": {
    "colab": {},
    "colab_type": "code",
    "id": "tOpZqYbOqooo"
   },
   "outputs": [],
   "source": [
    "current = withdrawn[['Tm_Wins', 'PPG', 'VORP', 'WS', 'BPM', 'PER']]"
   ]
  },
  {
   "cell_type": "code",
   "execution_count": 30,
   "metadata": {
    "colab": {},
    "colab_type": "code",
    "id": "FHq9ZMW8qWw_"
   },
   "outputs": [],
   "source": [
    "from operator import itemgetter\n",
    "\n",
    "def make_pred(model):\n",
    "\n",
    "    proba = model.predict_proba(current)\n",
    "    pos_prob = proba[:, 1]\n",
    "    \n",
    "    combined_list = [[i, j] for i, j in zip(players, pos_prob)]\n",
    "    combined_list = sorted(combined_list, key = itemgetter(1), reverse = True)\n",
    "    \n",
    "    for i in combined_list:\n",
    "        print(i)\n",
    "        \n",
    "    who = model.predict(current)\n",
    "    for name, mvp in zip(players, who):\n",
    "      if mvp == 1:\n",
    "        print ('MVP candidate:', name, mvp)\n",
    "    return pos_prob"
   ]
  },
  {
   "cell_type": "code",
   "execution_count": 31,
   "metadata": {
    "colab": {
     "base_uri": "https://localhost:8080/",
     "height": 1000
    },
    "colab_type": "code",
    "id": "b-guQySnqjFh",
    "outputId": "367b0a1a-bdd7-42ea-9f4f-845d4e563f13"
   },
   "outputs": [
    {
     "name": "stdout",
     "output_type": "stream",
     "text": [
      "['James Harden', 0.996687867769793]\n",
      "['Giannis Antetokounmpo', 0.6656698566594189]\n",
      "['Clint Capela', 0.3117265569454294]\n",
      "['Kevin Durant', 0.24123062788266317]\n",
      "['Damian Lillard', 0.21076738000679382]\n",
      "['Rudy Gobert', 0.02392916923034759]\n",
      "['Nikola Jokić', 0.005208019974942708]\n",
      "['Stephen Curry', 0.004191128482156484]\n",
      "['Paul George', 0.0028802786292610504]\n",
      "['Pascal Siakam', 0.0013978941107583417]\n",
      "['Kawhi Leonard', 0.0011039156108377157]\n",
      "['LaMarcus Aldridge', 0.00018648608919044247]\n",
      "['Eric Bledsoe', 6.173069101921824e-05]\n",
      "['Kyrie Irving', 1.4810603557282656e-05]\n",
      "['Joel Embiid', 1.0258888661408037e-05]\n",
      "['Steven Adams', 7.4497160713203576e-06]\n",
      "['Ben Simmons', 4.7057183297619e-06]\n",
      "['Montrezl Harrell', 4.470554278518915e-06]\n",
      "['Serge Ibaka', 3.843267098523128e-06]\n",
      "['Jusuf Nurkić', 3.822178191678267e-06]\n",
      "['Danilo Gallinari', 1.5621617627811258e-06]\n",
      "['Malcolm Brogdon', 7.304634217510471e-07]\n",
      "['Chris Paul', 2.3949808332603847e-07]\n",
      "['Derrick Favors', 1.3839118734391415e-07]\n",
      "['Domantas Sabonis', 1.0152654670779836e-07]\n",
      "['Bam Adebayo', 1.0000000994736041e-07]\n",
      "['Jarrett Allen', 1.0000000994736041e-07]\n",
      "['Al-Farouq Aminu', 1.0000000994736041e-07]\n",
      "['Kyle Anderson', 1.0000000994736041e-07]\n",
      "['OG Anunoby', 1.0000000994736041e-07]\n",
      "['Ryan Arcidiacono', 1.0000000994736041e-07]\n",
      "['Trevor Ariza', 1.0000000994736041e-07]\n",
      "['D.J. Augustin', 1.0000000994736041e-07]\n",
      "['Deandre Ayton', 1.0000000994736041e-07]\n",
      "['Marvin Bagley', 1.0000000994736041e-07]\n",
      "['Lonzo Ball', 1.0000000994736041e-07]\n",
      "['Harrison Barnes', 1.0000000994736041e-07]\n",
      "['Will Barton', 1.0000000994736041e-07]\n",
      "['Nicolas Batum', 1.0000000994736041e-07]\n",
      "['Aron Baynes', 1.0000000994736041e-07]\n",
      "['Kent Bazemore', 1.0000000994736041e-07]\n",
      "['Bradley Beal', 1.0000000994736041e-07]\n",
      "['Malik Beasley', 1.0000000994736041e-07]\n",
      "['Marco Belinelli', 1.0000000994736041e-07]\n",
      "[\"DeAndre' Bembry\", 1.0000000994736041e-07]\n",
      "['Dragan Bender', 1.0000000994736041e-07]\n",
      "['Dāvis Bertāns', 1.0000000994736041e-07]\n",
      "['Patrick Beverley', 1.0000000994736041e-07]\n",
      "['Nemanja Bjelica', 1.0000000994736041e-07]\n",
      "['Antonio Blakeney', 1.0000000994736041e-07]\n",
      "['Bogdan Bogdanović', 1.0000000994736041e-07]\n",
      "['Bojan Bogdanović', 1.0000000994736041e-07]\n",
      "['Devin Booker', 1.0000000994736041e-07]\n",
      "['Avery Bradley', 1.0000000994736041e-07]\n",
      "['Mikal Bridges', 1.0000000994736041e-07]\n",
      "['Miles Bridges', 1.0000000994736041e-07]\n",
      "['Bruce Brown', 1.0000000994736041e-07]\n",
      "['Jaylen Brown', 1.0000000994736041e-07]\n",
      "['Sterling Brown', 1.0000000994736041e-07]\n",
      "['Jalen Brunson', 1.0000000994736041e-07]\n",
      "['Thomas Bryant', 1.0000000994736041e-07]\n",
      "['Reggie Bullock', 1.0000000994736041e-07]\n",
      "['Jimmy Butler', 1.0000000994736041e-07]\n",
      "['Kentavious Caldwell-Pope', 1.0000000994736041e-07]\n",
      "['DeMarre Carroll', 1.0000000994736041e-07]\n",
      "['Vince Carter', 1.0000000994736041e-07]\n",
      "['Wendell Carter', 1.0000000994736041e-07]\n",
      "['Willie Cauley-Stein', 1.0000000994736041e-07]\n",
      "['Ian Clark', 1.0000000994736041e-07]\n",
      "['Jordan Clarkson', 1.0000000994736041e-07]\n",
      "['John Collins', 1.0000000994736041e-07]\n",
      "['Zach Collins', 1.0000000994736041e-07]\n",
      "['Darren Collison', 1.0000000994736041e-07]\n",
      "['Mike Conley', 1.0000000994736041e-07]\n",
      "['Pat Connaughton', 1.0000000994736041e-07]\n",
      "['Quinn Cook', 1.0000000994736041e-07]\n",
      "['Allen Crabbe', 1.0000000994736041e-07]\n",
      "['Torrey Craig', 1.0000000994736041e-07]\n",
      "['Jamal Crawford', 1.0000000994736041e-07]\n",
      "['Jae Crowder', 1.0000000994736041e-07]\n",
      "['Dante Cunningham', 1.0000000994736041e-07]\n",
      "['Seth Curry', 1.0000000994736041e-07]\n",
      "['Anthony Davis', 1.0000000994736041e-07]\n",
      "['Ed Davis', 1.0000000994736041e-07]\n",
      "['Dewayne Dedmon', 1.0000000994736041e-07]\n",
      "['DeMar DeRozan', 1.0000000994736041e-07]\n",
      "['Cheick Diallo', 1.0000000994736041e-07]\n",
      "['Gorgui Dieng', 1.0000000994736041e-07]\n",
      "['Spencer Dinwiddie', 1.0000000994736041e-07]\n",
      "['Luka Dončić', 1.0000000994736041e-07]\n",
      "['Damyean Dotson', 1.0000000994736041e-07]\n",
      "['Andre Drummond', 1.0000000994736041e-07]\n",
      "['Jared Dudley', 1.0000000994736041e-07]\n",
      "['Kris Dunn', 1.0000000994736041e-07]\n",
      "['Tyreke Evans', 1.0000000994736041e-07]\n",
      "['Terrance Ferguson', 1.0000000994736041e-07]\n",
      "['Yogi Ferrell', 1.0000000994736041e-07]\n",
      "['Dorian Finney-Smith', 1.0000000994736041e-07]\n",
      "['Bryn Forbes', 1.0000000994736041e-07]\n",
      "['Evan Fournier', 1.0000000994736041e-07]\n",
      "[\"De'Aaron Fox\", 1.0000000994736041e-07]\n",
      "['Tim Frazier', 1.0000000994736041e-07]\n",
      "['Langston Galloway', 1.0000000994736041e-07]\n",
      "['Marc Gasol', 1.0000000994736041e-07]\n",
      "['Rudy Gay', 1.0000000994736041e-07]\n",
      "['Taj Gibson', 1.0000000994736041e-07]\n",
      "['Harry Giles', 1.0000000994736041e-07]\n",
      "['Shai Gilgeous-Alexander', 1.0000000994736041e-07]\n",
      "['Aaron Gordon', 1.0000000994736041e-07]\n",
      "['Eric Gordon', 1.0000000994736041e-07]\n",
      "['Jerami Grant', 1.0000000994736041e-07]\n",
      "['Jerian Grant', 1.0000000994736041e-07]\n",
      "['Danny Green', 1.0000000994736041e-07]\n",
      "['Draymond Green', 1.0000000994736041e-07]\n",
      "['Gerald Green', 1.0000000994736041e-07]\n",
      "['JaMychal Green', 1.0000000994736041e-07]\n",
      "['Jeff Green', 1.0000000994736041e-07]\n",
      "['Blake Griffin', 1.0000000994736041e-07]\n",
      "['Tim Hardaway', 1.0000000994736041e-07]\n",
      "['Maurice Harkless', 1.0000000994736041e-07]\n",
      "['Devin Harris', 1.0000000994736041e-07]\n",
      "['Gary Harris', 1.0000000994736041e-07]\n",
      "['Joe Harris', 1.0000000994736041e-07]\n",
      "['Tobias Harris', 1.0000000994736041e-07]\n",
      "['Shaquille Harrison', 1.0000000994736041e-07]\n",
      "['Josh Hart', 1.0000000994736041e-07]\n",
      "['Gordon Hayward', 1.0000000994736041e-07]\n",
      "['Juan Hernangómez', 1.0000000994736041e-07]\n",
      "['Willy Hernangómez', 1.0000000994736041e-07]\n",
      "['Mario Hezonja', 1.0000000994736041e-07]\n",
      "['Buddy Hield', 1.0000000994736041e-07]\n",
      "['George Hill', 1.0000000994736041e-07]\n",
      "['Solomon Hill', 1.0000000994736041e-07]\n",
      "['Jrue Holiday', 1.0000000994736041e-07]\n",
      "['Justin Holiday', 1.0000000994736041e-07]\n",
      "['Rondae Hollis-Jefferson', 1.0000000994736041e-07]\n",
      "['Richaun Holmes', 1.0000000994736041e-07]\n",
      "['Rodney Hood', 1.0000000994736041e-07]\n",
      "['Al Horford', 1.0000000994736041e-07]\n",
      "['Kevin Huerter', 1.0000000994736041e-07]\n",
      "['Chandler Hutchison', 1.0000000994736041e-07]\n",
      "['Andre Iguodala', 1.0000000994736041e-07]\n",
      "['Ersan İlyasova', 1.0000000994736041e-07]\n",
      "['Joe Ingles', 1.0000000994736041e-07]\n",
      "['Brandon Ingram', 1.0000000994736041e-07]\n",
      "['Jonathan Isaac', 1.0000000994736041e-07]\n",
      "['Wesley Iwundu', 1.0000000994736041e-07]\n",
      "['Frank Jackson', 1.0000000994736041e-07]\n",
      "['Jaren Jackson', 1.0000000994736041e-07]\n",
      "['Josh Jackson', 1.0000000994736041e-07]\n",
      "['Justin Jackson', 1.0000000994736041e-07]\n",
      "['Reggie Jackson', 1.0000000994736041e-07]\n",
      "['LeBron James', 1.0000000994736041e-07]\n",
      "['Jonas Jerebko', 1.0000000994736041e-07]\n",
      "['James Johnson', 1.0000000994736041e-07]\n",
      "['Stanley Johnson', 1.0000000994736041e-07]\n",
      "['Tyler Johnson', 1.0000000994736041e-07]\n",
      "['Derrick Jones', 1.0000000994736041e-07]\n",
      "['Tyus Jones', 1.0000000994736041e-07]\n",
      "['DeAndre Jordan', 1.0000000994736041e-07]\n",
      "['Cory Joseph', 1.0000000994736041e-07]\n",
      "['Enes Kanter', 1.0000000994736041e-07]\n",
      "['Luke Kennard', 1.0000000994736041e-07]\n",
      "['Michael Kidd-Gilchrist', 1.0000000994736041e-07]\n",
      "['Maxi Kleber', 1.0000000994736041e-07]\n",
      "['Kevin Knox', 1.0000000994736041e-07]\n",
      "['Kyle Korver', 1.0000000994736041e-07]\n",
      "['Rodions Kurucs', 1.0000000994736041e-07]\n",
      "['Kyle Kuzma', 1.0000000994736041e-07]\n",
      "['Jeremy Lamb', 1.0000000994736041e-07]\n",
      "['Zach LaVine', 1.0000000994736041e-07]\n",
      "['Jake Layman', 1.0000000994736041e-07]\n",
      "['Alex Len', 1.0000000994736041e-07]\n",
      "['Meyers Leonard', 1.0000000994736041e-07]\n",
      "['Jeremy Lin', 1.0000000994736041e-07]\n",
      "['Shaun Livingston', 1.0000000994736041e-07]\n",
      "['Kevon Looney', 1.0000000994736041e-07]\n",
      "['Brook Lopez', 1.0000000994736041e-07]\n",
      "['Robin Lopez', 1.0000000994736041e-07]\n",
      "['Kyle Lowry', 1.0000000994736041e-07]\n",
      "['Trey Lyles', 1.0000000994736041e-07]\n",
      "['Shelvin Mack', 1.0000000994736041e-07]\n",
      "['Lauri Markkanen', 1.0000000994736041e-07]\n",
      "['Wesley Matthews', 1.0000000994736041e-07]\n",
      "['CJ McCollum', 1.0000000994736041e-07]\n",
      "['T.J. McConnell', 1.0000000994736041e-07]\n",
      "['Doug McDermott', 1.0000000994736041e-07]\n",
      "['JaVale McGee', 1.0000000994736041e-07]\n",
      "['Rodney McGruder', 1.0000000994736041e-07]\n",
      "['Alfonzo McKinnie', 1.0000000994736041e-07]\n",
      "[\"De'Anthony Melton\", 1.0000000994736041e-07]\n",
      "['Khris Middleton', 1.0000000994736041e-07]\n",
      "['Darius Miller', 1.0000000994736041e-07]\n",
      "['Patty Mills', 1.0000000994736041e-07]\n",
      "['Paul Millsap', 1.0000000994736041e-07]\n",
      "['Donovan Mitchell', 1.0000000994736041e-07]\n",
      "['Malik Monk', 1.0000000994736041e-07]\n",
      "[\"E'Twaun Moore\", 1.0000000994736041e-07]\n",
      "['Marcus Morris', 1.0000000994736041e-07]\n",
      "['Monte Morris', 1.0000000994736041e-07]\n",
      "['Emmanuel Mudiay', 1.0000000994736041e-07]\n",
      "['Jamal Murray', 1.0000000994736041e-07]\n",
      "['Mike Muscala', 1.0000000994736041e-07]\n",
      "['Larry Nance', 1.0000000994736041e-07]\n",
      "['Shabazz Napier', 1.0000000994736041e-07]\n",
      "['Nerlens Noel', 1.0000000994736041e-07]\n",
      "['Frank Ntilikina', 1.0000000994736041e-07]\n",
      "['David Nwaba', 1.0000000994736041e-07]\n",
      "[\"Royce O'Neale\", 1.0000000994736041e-07]\n",
      "['Jahlil Okafor', 1.0000000994736041e-07]\n",
      "['Élie Okobo', 1.0000000994736041e-07]\n",
      "['Josh Okogie', 1.0000000994736041e-07]\n",
      "['Kelly Olynyk', 1.0000000994736041e-07]\n",
      "['Cedi Osman', 1.0000000994736041e-07]\n",
      "['Zaza Pachulia', 1.0000000994736041e-07]\n",
      "['Tony Parker', 1.0000000994736041e-07]\n",
      "['Patrick Patterson', 1.0000000994736041e-07]\n",
      "['Elfrid Payton', 1.0000000994736041e-07]\n",
      "['Mason Plumlee', 1.0000000994736041e-07]\n",
      "['Jakob Pöltl', 1.0000000994736041e-07]\n",
      "['Otto Porter', 1.0000000994736041e-07]\n",
      "['Dwight Powell', 1.0000000994736041e-07]\n",
      "['Norman Powell', 1.0000000994736041e-07]\n",
      "['Julius Randle', 1.0000000994736041e-07]\n",
      "['J.J. Redick', 1.0000000994736041e-07]\n",
      "['Josh Richardson', 1.0000000994736041e-07]\n",
      "['Austin Rivers', 1.0000000994736041e-07]\n",
      "['Mitchell Robinson', 1.0000000994736041e-07]\n",
      "['Rajon Rondo', 1.0000000994736041e-07]\n",
      "['Derrick Rose', 1.0000000994736041e-07]\n",
      "['Terrence Ross', 1.0000000994736041e-07]\n",
      "['Terry Rozier', 1.0000000994736041e-07]\n",
      "['Ricky Rubio', 1.0000000994736041e-07]\n",
      "[\"D'Angelo Russell\", 1.0000000994736041e-07]\n",
      "['Dario Šarić', 1.0000000994736041e-07]\n",
      "['Tomáš Satoranský', 1.0000000994736041e-07]\n",
      "['Dennis Schröder', 1.0000000994736041e-07]\n",
      "['Wayne Selden', 1.0000000994736041e-07]\n",
      "['Collin Sexton', 1.0000000994736041e-07]\n",
      "['Landry Shamet', 1.0000000994736041e-07]\n",
      "['Iman Shumpert', 1.0000000994736041e-07]\n",
      "['Jonathon Simmons', 1.0000000994736041e-07]\n",
      "['Marcus Smart', 1.0000000994736041e-07]\n",
      "['Ish Smith', 1.0000000994736041e-07]\n",
      "['Tony Snell', 1.0000000994736041e-07]\n",
      "['Omari Spellman', 1.0000000994736041e-07]\n",
      "['Lance Stephenson', 1.0000000994736041e-07]\n",
      "['Jayson Tatum', 1.0000000994736041e-07]\n",
      "['Jeff Teague', 1.0000000994736041e-07]\n",
      "['Garrett Temple', 1.0000000994736041e-07]\n",
      "['Daniel Theis', 1.0000000994736041e-07]\n",
      "['Klay Thompson', 1.0000000994736041e-07]\n",
      "['Tristan Thompson', 1.0000000994736041e-07]\n",
      "['Anthony Tolliver', 1.0000000994736041e-07]\n",
      "['Karl-Anthony Towns', 1.0000000994736041e-07]\n",
      "['Allonzo Trier', 1.0000000994736041e-07]\n",
      "['P.J. Tucker', 1.0000000994736041e-07]\n",
      "['Evan Turner', 1.0000000994736041e-07]\n",
      "['Myles Turner', 1.0000000994736041e-07]\n",
      "['Fred VanVleet', 1.0000000994736041e-07]\n",
      "['Noah Vonleh', 1.0000000994736041e-07]\n",
      "['Nikola Vučević', 1.0000000994736041e-07]\n",
      "['Dwyane Wade', 1.0000000994736041e-07]\n",
      "['Dion Waiters', 1.0000000994736041e-07]\n",
      "['Kemba Walker', 1.0000000994736041e-07]\n",
      "['Taurean Waller-Prince', 1.0000000994736041e-07]\n",
      "['T.J. Warren', 1.0000000994736041e-07]\n",
      "['Russell Westbrook', 1.0000000994736041e-07]\n",
      "['Derrick White', 1.0000000994736041e-07]\n",
      "['Hassan Whiteside', 1.0000000994736041e-07]\n",
      "['Andrew Wiggins', 1.0000000994736041e-07]\n",
      "['Kenrich Williams', 1.0000000994736041e-07]\n",
      "['Lou Williams', 1.0000000994736041e-07]\n",
      "['Marvin Williams', 1.0000000994736041e-07]\n",
      "['D.J. Wilson', 1.0000000994736041e-07]\n",
      "['Justise Winslow', 1.0000000994736041e-07]\n",
      "['Delon Wright', 1.0000000994736041e-07]\n",
      "['Thaddeus Young', 1.0000000994736041e-07]\n",
      "['Trae Young', 1.0000000994736041e-07]\n",
      "['Cody Zeller', 1.0000000994736041e-07]\n",
      "['Ante Žižić', 1.0000000994736041e-07]\n",
      "MVP candidate: Giannis Antetokounmpo 1\n",
      "MVP candidate: James Harden 1\n"
     ]
    }
   ],
   "source": [
    "svc_prob = make_pred(svc)"
   ]
  },
  {
   "cell_type": "code",
   "execution_count": 32,
   "metadata": {
    "colab": {
     "base_uri": "https://localhost:8080/",
     "height": 1000
    },
    "colab_type": "code",
    "id": "CB_ejpy8rnMJ",
    "outputId": "5ada5a62-c6b6-4502-fb31-ab7848c1c81a"
   },
   "outputs": [
    {
     "name": "stdout",
     "output_type": "stream",
     "text": [
      "['James Harden', 1.0]\n",
      "['Giannis Antetokounmpo', 0.6533333333333333]\n",
      "['Nikola Jokić', 0.21333333333333335]\n",
      "['Kevin Durant', 0.2]\n",
      "['Damian Lillard', 0.12]\n",
      "['Andre Drummond', 0.10666666666666667]\n",
      "['Clint Capela', 0.09333333333333334]\n",
      "['Paul George', 0.09333333333333334]\n",
      "['Montrezl Harrell', 0.09333333333333334]\n",
      "['Pascal Siakam', 0.09333333333333334]\n",
      "['Stephen Curry', 0.06666666666666667]\n",
      "['Jusuf Nurkić', 0.06666666666666667]\n",
      "['Anthony Davis', 0.05333333333333334]\n",
      "['Mitchell Robinson', 0.05333333333333334]\n",
      "['Karl-Anthony Towns', 0.05333333333333334]\n",
      "['Eric Bledsoe', 0.04]\n",
      "['Rudy Gobert', 0.04]\n",
      "['Kawhi Leonard', 0.04]\n",
      "['Malcolm Brogdon', 0.013333333333333334]\n",
      "['Joel Embiid', 0.013333333333333334]\n",
      "['Steven Adams', 0.0]\n",
      "['Bam Adebayo', 0.0]\n",
      "['LaMarcus Aldridge', 0.0]\n",
      "['Jarrett Allen', 0.0]\n",
      "['Al-Farouq Aminu', 0.0]\n",
      "['Kyle Anderson', 0.0]\n",
      "['OG Anunoby', 0.0]\n",
      "['Ryan Arcidiacono', 0.0]\n",
      "['Trevor Ariza', 0.0]\n",
      "['D.J. Augustin', 0.0]\n",
      "['Deandre Ayton', 0.0]\n",
      "['Marvin Bagley', 0.0]\n",
      "['Lonzo Ball', 0.0]\n",
      "['Harrison Barnes', 0.0]\n",
      "['Will Barton', 0.0]\n",
      "['Nicolas Batum', 0.0]\n",
      "['Aron Baynes', 0.0]\n",
      "['Kent Bazemore', 0.0]\n",
      "['Bradley Beal', 0.0]\n",
      "['Malik Beasley', 0.0]\n",
      "['Marco Belinelli', 0.0]\n",
      "[\"DeAndre' Bembry\", 0.0]\n",
      "['Dragan Bender', 0.0]\n",
      "['Dāvis Bertāns', 0.0]\n",
      "['Patrick Beverley', 0.0]\n",
      "['Nemanja Bjelica', 0.0]\n",
      "['Antonio Blakeney', 0.0]\n",
      "['Bogdan Bogdanović', 0.0]\n",
      "['Bojan Bogdanović', 0.0]\n",
      "['Devin Booker', 0.0]\n",
      "['Avery Bradley', 0.0]\n",
      "['Mikal Bridges', 0.0]\n",
      "['Miles Bridges', 0.0]\n",
      "['Bruce Brown', 0.0]\n",
      "['Jaylen Brown', 0.0]\n",
      "['Sterling Brown', 0.0]\n",
      "['Jalen Brunson', 0.0]\n",
      "['Thomas Bryant', 0.0]\n",
      "['Reggie Bullock', 0.0]\n",
      "['Jimmy Butler', 0.0]\n",
      "['Kentavious Caldwell-Pope', 0.0]\n",
      "['DeMarre Carroll', 0.0]\n",
      "['Vince Carter', 0.0]\n",
      "['Wendell Carter', 0.0]\n",
      "['Willie Cauley-Stein', 0.0]\n",
      "['Ian Clark', 0.0]\n",
      "['Jordan Clarkson', 0.0]\n",
      "['John Collins', 0.0]\n",
      "['Zach Collins', 0.0]\n",
      "['Darren Collison', 0.0]\n",
      "['Mike Conley', 0.0]\n",
      "['Pat Connaughton', 0.0]\n",
      "['Quinn Cook', 0.0]\n",
      "['Allen Crabbe', 0.0]\n",
      "['Torrey Craig', 0.0]\n",
      "['Jamal Crawford', 0.0]\n",
      "['Jae Crowder', 0.0]\n",
      "['Dante Cunningham', 0.0]\n",
      "['Seth Curry', 0.0]\n",
      "['Ed Davis', 0.0]\n",
      "['Dewayne Dedmon', 0.0]\n",
      "['DeMar DeRozan', 0.0]\n",
      "['Cheick Diallo', 0.0]\n",
      "['Gorgui Dieng', 0.0]\n",
      "['Spencer Dinwiddie', 0.0]\n",
      "['Luka Dončić', 0.0]\n",
      "['Damyean Dotson', 0.0]\n",
      "['Jared Dudley', 0.0]\n",
      "['Kris Dunn', 0.0]\n",
      "['Tyreke Evans', 0.0]\n",
      "['Derrick Favors', 0.0]\n",
      "['Terrance Ferguson', 0.0]\n",
      "['Yogi Ferrell', 0.0]\n",
      "['Dorian Finney-Smith', 0.0]\n",
      "['Bryn Forbes', 0.0]\n",
      "['Evan Fournier', 0.0]\n",
      "[\"De'Aaron Fox\", 0.0]\n",
      "['Tim Frazier', 0.0]\n",
      "['Danilo Gallinari', 0.0]\n",
      "['Langston Galloway', 0.0]\n",
      "['Marc Gasol', 0.0]\n",
      "['Rudy Gay', 0.0]\n",
      "['Taj Gibson', 0.0]\n",
      "['Harry Giles', 0.0]\n",
      "['Shai Gilgeous-Alexander', 0.0]\n",
      "['Aaron Gordon', 0.0]\n",
      "['Eric Gordon', 0.0]\n",
      "['Jerami Grant', 0.0]\n",
      "['Jerian Grant', 0.0]\n",
      "['Danny Green', 0.0]\n",
      "['Draymond Green', 0.0]\n",
      "['Gerald Green', 0.0]\n",
      "['JaMychal Green', 0.0]\n",
      "['Jeff Green', 0.0]\n",
      "['Blake Griffin', 0.0]\n",
      "['Tim Hardaway', 0.0]\n",
      "['Maurice Harkless', 0.0]\n",
      "['Devin Harris', 0.0]\n",
      "['Gary Harris', 0.0]\n",
      "['Joe Harris', 0.0]\n",
      "['Tobias Harris', 0.0]\n",
      "['Shaquille Harrison', 0.0]\n",
      "['Josh Hart', 0.0]\n",
      "['Gordon Hayward', 0.0]\n",
      "['Juan Hernangómez', 0.0]\n",
      "['Willy Hernangómez', 0.0]\n",
      "['Mario Hezonja', 0.0]\n",
      "['Buddy Hield', 0.0]\n",
      "['George Hill', 0.0]\n",
      "['Solomon Hill', 0.0]\n",
      "['Jrue Holiday', 0.0]\n",
      "['Justin Holiday', 0.0]\n",
      "['Rondae Hollis-Jefferson', 0.0]\n",
      "['Richaun Holmes', 0.0]\n",
      "['Rodney Hood', 0.0]\n",
      "['Al Horford', 0.0]\n",
      "['Kevin Huerter', 0.0]\n",
      "['Chandler Hutchison', 0.0]\n",
      "['Serge Ibaka', 0.0]\n",
      "['Andre Iguodala', 0.0]\n",
      "['Ersan İlyasova', 0.0]\n",
      "['Joe Ingles', 0.0]\n",
      "['Brandon Ingram', 0.0]\n",
      "['Kyrie Irving', 0.0]\n",
      "['Jonathan Isaac', 0.0]\n",
      "['Wesley Iwundu', 0.0]\n",
      "['Frank Jackson', 0.0]\n",
      "['Jaren Jackson', 0.0]\n",
      "['Josh Jackson', 0.0]\n",
      "['Justin Jackson', 0.0]\n",
      "['Reggie Jackson', 0.0]\n",
      "['LeBron James', 0.0]\n",
      "['Jonas Jerebko', 0.0]\n",
      "['James Johnson', 0.0]\n",
      "['Stanley Johnson', 0.0]\n",
      "['Tyler Johnson', 0.0]\n",
      "['Derrick Jones', 0.0]\n",
      "['Tyus Jones', 0.0]\n",
      "['DeAndre Jordan', 0.0]\n",
      "['Cory Joseph', 0.0]\n",
      "['Enes Kanter', 0.0]\n",
      "['Luke Kennard', 0.0]\n",
      "['Michael Kidd-Gilchrist', 0.0]\n",
      "['Maxi Kleber', 0.0]\n",
      "['Kevin Knox', 0.0]\n",
      "['Kyle Korver', 0.0]\n",
      "['Rodions Kurucs', 0.0]\n",
      "['Kyle Kuzma', 0.0]\n",
      "['Jeremy Lamb', 0.0]\n",
      "['Zach LaVine', 0.0]\n",
      "['Jake Layman', 0.0]\n",
      "['Alex Len', 0.0]\n",
      "['Meyers Leonard', 0.0]\n",
      "['Jeremy Lin', 0.0]\n",
      "['Shaun Livingston', 0.0]\n",
      "['Kevon Looney', 0.0]\n",
      "['Brook Lopez', 0.0]\n",
      "['Robin Lopez', 0.0]\n",
      "['Kyle Lowry', 0.0]\n",
      "['Trey Lyles', 0.0]\n",
      "['Shelvin Mack', 0.0]\n",
      "['Lauri Markkanen', 0.0]\n",
      "['Wesley Matthews', 0.0]\n",
      "['CJ McCollum', 0.0]\n",
      "['T.J. McConnell', 0.0]\n",
      "['Doug McDermott', 0.0]\n",
      "['JaVale McGee', 0.0]\n",
      "['Rodney McGruder', 0.0]\n",
      "['Alfonzo McKinnie', 0.0]\n",
      "[\"De'Anthony Melton\", 0.0]\n",
      "['Khris Middleton', 0.0]\n",
      "['Darius Miller', 0.0]\n",
      "['Patty Mills', 0.0]\n",
      "['Paul Millsap', 0.0]\n",
      "['Donovan Mitchell', 0.0]\n",
      "['Malik Monk', 0.0]\n",
      "[\"E'Twaun Moore\", 0.0]\n",
      "['Marcus Morris', 0.0]\n",
      "['Monte Morris', 0.0]\n",
      "['Emmanuel Mudiay', 0.0]\n",
      "['Jamal Murray', 0.0]\n",
      "['Mike Muscala', 0.0]\n",
      "['Larry Nance', 0.0]\n",
      "['Shabazz Napier', 0.0]\n",
      "['Nerlens Noel', 0.0]\n",
      "['Frank Ntilikina', 0.0]\n",
      "['David Nwaba', 0.0]\n",
      "[\"Royce O'Neale\", 0.0]\n",
      "['Jahlil Okafor', 0.0]\n",
      "['Élie Okobo', 0.0]\n",
      "['Josh Okogie', 0.0]\n",
      "['Kelly Olynyk', 0.0]\n",
      "['Cedi Osman', 0.0]\n",
      "['Zaza Pachulia', 0.0]\n",
      "['Tony Parker', 0.0]\n",
      "['Patrick Patterson', 0.0]\n",
      "['Chris Paul', 0.0]\n",
      "['Elfrid Payton', 0.0]\n",
      "['Mason Plumlee', 0.0]\n",
      "['Jakob Pöltl', 0.0]\n",
      "['Otto Porter', 0.0]\n",
      "['Dwight Powell', 0.0]\n",
      "['Norman Powell', 0.0]\n",
      "['Julius Randle', 0.0]\n",
      "['J.J. Redick', 0.0]\n",
      "['Josh Richardson', 0.0]\n",
      "['Austin Rivers', 0.0]\n",
      "['Rajon Rondo', 0.0]\n",
      "['Derrick Rose', 0.0]\n",
      "['Terrence Ross', 0.0]\n",
      "['Terry Rozier', 0.0]\n",
      "['Ricky Rubio', 0.0]\n",
      "[\"D'Angelo Russell\", 0.0]\n",
      "['Domantas Sabonis', 0.0]\n",
      "['Dario Šarić', 0.0]\n",
      "['Tomáš Satoranský', 0.0]\n",
      "['Dennis Schröder', 0.0]\n",
      "['Wayne Selden', 0.0]\n",
      "['Collin Sexton', 0.0]\n",
      "['Landry Shamet', 0.0]\n",
      "['Iman Shumpert', 0.0]\n",
      "['Ben Simmons', 0.0]\n",
      "['Jonathon Simmons', 0.0]\n",
      "['Marcus Smart', 0.0]\n",
      "['Ish Smith', 0.0]\n",
      "['Tony Snell', 0.0]\n",
      "['Omari Spellman', 0.0]\n",
      "['Lance Stephenson', 0.0]\n",
      "['Jayson Tatum', 0.0]\n",
      "['Jeff Teague', 0.0]\n",
      "['Garrett Temple', 0.0]\n",
      "['Daniel Theis', 0.0]\n",
      "['Klay Thompson', 0.0]\n",
      "['Tristan Thompson', 0.0]\n",
      "['Anthony Tolliver', 0.0]\n",
      "['Allonzo Trier', 0.0]\n",
      "['P.J. Tucker', 0.0]\n",
      "['Evan Turner', 0.0]\n",
      "['Myles Turner', 0.0]\n",
      "['Fred VanVleet', 0.0]\n",
      "['Noah Vonleh', 0.0]\n",
      "['Nikola Vučević', 0.0]\n",
      "['Dwyane Wade', 0.0]\n",
      "['Dion Waiters', 0.0]\n",
      "['Kemba Walker', 0.0]\n",
      "['Taurean Waller-Prince', 0.0]\n",
      "['T.J. Warren', 0.0]\n",
      "['Russell Westbrook', 0.0]\n",
      "['Derrick White', 0.0]\n",
      "['Hassan Whiteside', 0.0]\n",
      "['Andrew Wiggins', 0.0]\n",
      "['Kenrich Williams', 0.0]\n",
      "['Lou Williams', 0.0]\n",
      "['Marvin Williams', 0.0]\n",
      "['D.J. Wilson', 0.0]\n",
      "['Justise Winslow', 0.0]\n",
      "['Delon Wright', 0.0]\n",
      "['Thaddeus Young', 0.0]\n",
      "['Trae Young', 0.0]\n",
      "['Cody Zeller', 0.0]\n",
      "['Ante Žižić', 0.0]\n",
      "MVP candidate: Giannis Antetokounmpo 1\n",
      "MVP candidate: James Harden 1\n"
     ]
    }
   ],
   "source": [
    "rf_prob = make_pred(rf)"
   ]
  },
  {
   "cell_type": "code",
   "execution_count": 33,
   "metadata": {
    "colab": {
     "base_uri": "https://localhost:8080/",
     "height": 1000
    },
    "colab_type": "code",
    "id": "kTu5SXfArsVn",
    "outputId": "6a8705b9-a35a-4f45-c619-a60858382e5f"
   },
   "outputs": [
    {
     "name": "stdout",
     "output_type": "stream",
     "text": [
      "['James Harden', 0.7235915029037077]\n",
      "['Giannis Antetokounmpo', 0.6928878734023487]\n",
      "['Damian Lillard', 0.41029371173974605]\n",
      "['Rudy Gobert', 0.1990953509924271]\n",
      "['Steven Adams', 0.11802901769344208]\n",
      "['Nikola Jokić', 0.11151031269838695]\n",
      "['Clint Capela', 0.07733920412009233]\n",
      "['Kevin Durant', 0.028653958058971384]\n",
      "['Paul George', 0.02713468970254036]\n",
      "['Pascal Siakam', 0.019021235198917855]\n",
      "['Ben Simmons', 0.008969543040702448]\n",
      "['Stephen Curry', 0.00806425427549942]\n",
      "['Kyrie Irving', 0.007026770348348133]\n",
      "['Nikola Vučević', 0.006804030528813307]\n",
      "['Jarrett Allen', 0.006101733476330276]\n",
      "['Karl-Anthony Towns', 0.005092935417657171]\n",
      "['Darren Collison', 0.004883054814484115]\n",
      "['Montrezl Harrell', 0.004423142364284002]\n",
      "['D.J. Augustin', 0.004354569781080349]\n",
      "['Anthony Davis', 0.004018824197701444]\n",
      "['Eric Bledsoe', 0.0038062659986552124]\n",
      "['Thaddeus Young', 0.0035860788917811983]\n",
      "['Al Horford', 0.0035409719495881043]\n",
      "['Domantas Sabonis', 0.0033228550198958024]\n",
      "['Derrick Favors', 0.0032019930090257864]\n",
      "['Jerami Grant', 0.0027776459630965]\n",
      "['Russell Westbrook', 0.002757575855463459]\n",
      "['Jusuf Nurkić', 0.0027238842425808285]\n",
      "['Andre Drummond', 0.0024100451931138877]\n",
      "['Bam Adebayo', 0.0023740380387720205]\n",
      "['Willie Cauley-Stein', 0.0023733436002822306]\n",
      "['Mitchell Robinson', 0.002242108629186385]\n",
      "['Myles Turner', 0.0021011221893933256]\n",
      "['Chris Paul', 0.0019618221090594444]\n",
      "['Dwight Powell', 0.0018313202863623854]\n",
      "['Danilo Gallinari', 0.0017366611269376666]\n",
      "['Kawhi Leonard', 0.0015440957480609117]\n",
      "['LeBron James', 0.001513221825469013]\n",
      "['Larry Nance', 0.0014571886006335413]\n",
      "['Paul Millsap', 0.0013771926751132211]\n",
      "['Monte Morris', 0.0012775478724737948]\n",
      "['Serge Ibaka', 0.0011916426671791064]\n",
      "['Kevon Looney', 0.00118922632276101]\n",
      "['Ed Davis', 0.0011829563354255142]\n",
      "['Malcolm Brogdon', 0.0011484426623078723]\n",
      "['Jimmy Butler', 0.0010748882668667158]\n",
      "['Mason Plumlee', 0.00106598370298459]\n",
      "['Joe Harris', 0.0010648942914507752]\n",
      "['Joe Ingles', 0.0010246789406441242]\n",
      "['Kyle Lowry', 0.001002370614002785]\n",
      "['JaVale McGee', 0.0009697254713496397]\n",
      "['Kelly Olynyk', 0.0009672261605562311]\n",
      "['Khris Middleton', 0.0009531348641613218]\n",
      "['Nemanja Bjelica', 0.0009387106462913768]\n",
      "['DeAndre Jordan', 0.0009199920158714821]\n",
      "['Jakob Pöltl', 0.0009135694914809374]\n",
      "['Blake Griffin', 0.0008975391178758569]\n",
      "['Marcus Smart', 0.000878203416902884]\n",
      "['Bojan Bogdanović', 0.0008692750052341452]\n",
      "['Al-Farouq Aminu', 0.0008648052329672852]\n",
      "['Thomas Bryant', 0.0008481127527245695]\n",
      "['Nerlens Noel', 0.0008264291714965376]\n",
      "['Hassan Whiteside', 0.0008244318255641938]\n",
      "['Taj Gibson', 0.0008088218581999169]\n",
      "['Gordon Hayward', 0.0008022022735750743]\n",
      "['Brook Lopez', 0.0008011963449893859]\n",
      "['Patrick Beverley', 0.0007987468594672191]\n",
      "['LaMarcus Aldridge', 0.0007725635520528441]\n",
      "['Danny Green', 0.0007397430660066339]\n",
      "['Daniel Theis', 0.0007049841598792178]\n",
      "['Cody Zeller', 0.0007006111272880035]\n",
      "['Mike Conley', 0.0006965187315779726]\n",
      "['Maxi Kleber', 0.0006946412230716074]\n",
      "['Richaun Holmes', 0.0006937834643591901]\n",
      "['J.J. Redick', 0.0006920798376775929]\n",
      "['Andre Iguodala', 0.0006860540126584577]\n",
      "['P.J. Tucker', 0.0006761801050967109]\n",
      "['Jamal Murray', 0.0006720405079314925]\n",
      "['Gorgui Dieng', 0.0006564139520356955]\n",
      "['Willy Hernangómez', 0.0006557388877745078]\n",
      "['Draymond Green', 0.0006338534319158124]\n",
      "['Dāvis Bertāns', 0.0006126788692221994]\n",
      "['Jonathan Isaac', 0.0006003965267558317]\n",
      "['Jayson Tatum', 0.0005980277573495864]\n",
      "['Nicolas Batum', 0.0005964248167282954]\n",
      "['Marcus Morris', 0.0005862554063724838]\n",
      "['Pat Connaughton', 0.0005852942398494654]\n",
      "['Jae Crowder', 0.0005754764934205361]\n",
      "['Malik Beasley', 0.0005651023002732356]\n",
      "['Maurice Harkless', 0.0005620645186757443]\n",
      "['Marvin Williams', 0.0005616359004104912]\n",
      "['Meyers Leonard', 0.0005589080983208381]\n",
      "['Tomáš Satoranský', 0.0005586820385299624]\n",
      "['Ricky Rubio', 0.0005516043991202436]\n",
      "[\"Royce O'Neale\", 0.0005437634242916598]\n",
      "['Rudy Gay', 0.00053977045442651]\n",
      "['Cory Joseph', 0.0005313933386202353]\n",
      "['Bryn Forbes', 0.0005266218415338356]\n",
      "['Derrick White', 0.0005249131869544351]\n",
      "['Zaza Pachulia', 0.0005226202739188681]\n",
      "['Dorian Finney-Smith', 0.0005199585629134279]\n",
      "['Fred VanVleet', 0.0005165694212846735]\n",
      "['Jonas Jerebko', 0.0005104761092020391]\n",
      "['Klay Thompson', 0.0005067493993012712]\n",
      "['Torrey Craig', 0.0005035384090226499]\n",
      "['Josh Richardson', 0.0005034439100042519]\n",
      "['Deandre Ayton', 0.0004945773772310393]\n",
      "['CJ McCollum', 0.0004935874922511678]\n",
      "['Aaron Gordon', 0.000489419178756149]\n",
      "['Dewayne Dedmon', 0.00048785199342874836]\n",
      "['Patty Mills', 0.00048681450696925224]\n",
      "['Juan Hernangómez', 0.00048508641878469916]\n",
      "['Tony Snell', 0.00048316199460313874]\n",
      "['Dante Cunningham', 0.0004820987649869857]\n",
      "['Shai Gilgeous-Alexander', 0.000479763010170341]\n",
      "['Derrick Jones', 0.00047825547611503864]\n",
      "['Langston Galloway', 0.00047811401387430727]\n",
      "['Zach Collins', 0.0004753378141883157]\n",
      "['Jake Layman', 0.00046729172133241616]\n",
      "['Kyle Anderson', 0.0004648742496242075]\n",
      "['Ersan İlyasova', 0.0004636260591140565]\n",
      "['Aron Baynes', 0.00046197401737025723]\n",
      "['Terry Rozier', 0.00046020200321170694]\n",
      "['Luka Dončić', 0.00045427651090898925]\n",
      "['George Hill', 0.0004537490411902939]\n",
      "['Delon Wright', 0.00045188763961505747]\n",
      "['Gary Harris', 0.00045139847171335126]\n",
      "['Cheick Diallo', 0.0004503483889101615]\n",
      "['Shaun Livingston', 0.00044461033557525103]\n",
      "['Terrance Ferguson', 0.00044413175198930845]\n",
      "['Bradley Beal', 0.0004417827603775456]\n",
      "['Jaylen Brown', 0.0004415650033384564]\n",
      "['Doug McDermott', 0.00044146319652553544]\n",
      "['T.J. McConnell', 0.0004409888233598498]\n",
      "['Jared Dudley', 0.00043909350621739444]\n",
      "['Sterling Brown', 0.0004352508470325717]\n",
      "['Reggie Bullock', 0.0004349965260543473]\n",
      "['Eric Gordon', 0.0004335286163673423]\n",
      "['OG Anunoby', 0.0004318047366084603]\n",
      "['D.J. Wilson', 0.0004315843824590462]\n",
      "['Alfonzo McKinnie', 0.0004314343186750183]\n",
      "['Seth Curry', 0.00043033120547940844]\n",
      "['Norman Powell', 0.00042862726778592684]\n",
      "['Joel Embiid', 0.00042807807282560116]\n",
      "['Kemba Walker', 0.0004235288890318403]\n",
      "['Mike Muscala', 0.0004231318714080919]\n",
      "['Landry Shamet', 0.0004223560241899797]\n",
      "['Miles Bridges', 0.00042202594602115906]\n",
      "['Enes Kanter', 0.00042093330629001843]\n",
      "['Kentavious Caldwell-Pope', 0.00042006065196386125]\n",
      "['Marco Belinelli', 0.00041957175847881284]\n",
      "['Gerald Green', 0.0004165361380439935]\n",
      "['Kyle Korver', 0.0004135934871976027]\n",
      "['Evan Turner', 0.00041149182558399076]\n",
      "['DeMarre Carroll', 0.00041075438110813213]\n",
      "['Will Barton', 0.0004094788939244926]\n",
      "['Bruce Brown', 0.00040937715296426354]\n",
      "['Austin Rivers', 0.00040789134005241745]\n",
      "['Wesley Iwundu', 0.0004006106157624522]\n",
      "['Patrick Patterson', 0.00039345937258676713]\n",
      "['Josh Hart', 0.0003931183415721068]\n",
      "['Quinn Cook', 0.00039121222819188324]\n",
      "['Dennis Schröder', 0.00038619085325219027]\n",
      "['Reggie Jackson', 0.00038397923907068816]\n",
      "['Marc Gasol', 0.00038219746868667256]\n",
      "['Ryan Arcidiacono', 0.00038139624446719913]\n",
      "[\"D'Angelo Russell\", 0.0003792204890632971]\n",
      "['Avery Bradley', 0.00037877356667470293]\n",
      "['Jerian Grant', 0.0003765229014605377]\n",
      "['Trey Lyles', 0.00037589027170782863]\n",
      "['Luke Kennard', 0.00037368511335908564]\n",
      "['Michael Kidd-Gilchrist', 0.00037302010323367644]\n",
      "['Noah Vonleh', 0.00037271003860776575]\n",
      "['Rodney McGruder', 0.0003687128178975828]\n",
      "['Tyus Jones', 0.0003668519176349694]\n",
      "['Allen Crabbe', 0.0003666916378709803]\n",
      "['Evan Fournier', 0.00036233931127155897]\n",
      "['Iman Shumpert', 0.0003587178067740182]\n",
      "['Justise Winslow', 0.00035850805660591354]\n",
      "['Justin Jackson', 0.0003505100104490334]\n",
      "['Lonzo Ball', 0.0003497548068114352]\n",
      "['Jrue Holiday', 0.0003481492608935223]\n",
      "['Terrence Ross', 0.00034634544030120827]\n",
      "['Dario Šarić', 0.0003447413411788585]\n",
      "['Rodions Kurucs', 0.00034013105564383836]\n",
      "[\"De'Aaron Fox\", 0.0003360095332607011]\n",
      "['DeMar DeRozan', 0.0003351964385106729]\n",
      "['Anthony Tolliver', 0.0003347924938072105]\n",
      "['Kenrich Williams', 0.00033466888652211927]\n",
      "['Tristan Thompson', 0.0003345984214239369]\n",
      "['Jeremy Lamb', 0.00033269538984592663]\n",
      "['Tyreke Evans', 0.0003326156022708653]\n",
      "['Tobias Harris', 0.00033227753194835317]\n",
      "['Stanley Johnson', 0.00033106589271391523]\n",
      "['Garrett Temple', 0.0003297632764692902]\n",
      "['James Johnson', 0.00032844578763991717]\n",
      "['Devin Booker', 0.00032665384650530963]\n",
      "['Darius Miller', 0.0003261824044454732]\n",
      "['Donovan Mitchell', 0.0003256241956389503]\n",
      "['Tyler Johnson', 0.00032562153269798165]\n",
      "['Shabazz Napier', 0.0003231295442467211]\n",
      "['John Collins', 0.0003224183413613315]\n",
      "['Yogi Ferrell', 0.0003219602238089595]\n",
      "['Josh Okogie', 0.00032053103328138116]\n",
      "['Solomon Hill', 0.0003185975278100086]\n",
      "['Spencer Dinwiddie', 0.0003171580094882669]\n",
      "['Buddy Hield', 0.00031535598019340953]\n",
      "['Jonathon Simmons', 0.0003098876041943801]\n",
      "['Ish Smith', 0.00030569036310407866]\n",
      "['Zach LaVine', 0.00030471573854496666]\n",
      "['Omari Spellman', 0.00030306402335021073]\n",
      "['Mikal Bridges', 0.00030027368664346294]\n",
      "['Tim Frazier', 0.0002998963375168802]\n",
      "['Jahlil Okafor', 0.00029779670393353583]\n",
      "['Dion Waiters', 0.00029542236792246614]\n",
      "['Robin Lopez', 0.00029056203863484555]\n",
      "['Harry Giles', 0.00028676125143866504]\n",
      "['Rondae Hollis-Jefferson', 0.00028481981995403177]\n",
      "['Alex Len', 0.0002837928244386784]\n",
      "['Tim Hardaway', 0.00028279831333095234]\n",
      "['Julius Randle', 0.00028246994442543774]\n",
      "['Devin Harris', 0.000281867113412553]\n",
      "['Lance Stephenson', 0.00028158319637402996]\n",
      "['Rajon Rondo', 0.0002811672864678286]\n",
      "['Justin Holiday', 0.0002785248016622953]\n",
      "['Bogdan Bogdanović', 0.0002756788902165351]\n",
      "['Ante Žižić', 0.0002718109697665178]\n",
      "['Lou Williams', 0.0002688925291550842]\n",
      "['Vince Carter', 0.0002678108055935198]\n",
      "['Jaren Jackson', 0.00026362884930853525]\n",
      "['Shaquille Harrison', 0.0002628487696059082]\n",
      "['Wendell Carter', 0.00025966690843080544]\n",
      "['Jeff Green', 0.0002580810867984851]\n",
      "['JaMychal Green', 0.00025692667045241054]\n",
      "['David Nwaba', 0.000252954412865053]\n",
      "['Otto Porter', 0.0002528681756560066]\n",
      "['Wesley Matthews', 0.00025200528459114007]\n",
      "['Jalen Brunson', 0.0002512725433755107]\n",
      "['Elfrid Payton', 0.0002508456951016104]\n",
      "['Kyle Kuzma', 0.0002490478215806778]\n",
      "['Dwyane Wade', 0.0002448701505276675]\n",
      "['Malik Monk', 0.0002440261995134542]\n",
      "['T.J. Warren', 0.0002420399820367592]\n",
      "['Kevin Huerter', 0.0002414049453229341]\n",
      "['Trevor Ariza', 0.00023831617590758936]\n",
      "[\"E'Twaun Moore\", 0.00023789074299903297]\n",
      "['Collin Sexton', 0.00023330439790408358]\n",
      "[\"DeAndre' Bembry\", 0.0002323724563626316]\n",
      "['Marvin Bagley', 0.00023191856149351673]\n",
      "['Shelvin Mack', 0.00023191725765237897]\n",
      "['Brandon Ingram', 0.00023052228236337743]\n",
      "['Lauri Markkanen', 0.00022953780016796212]\n",
      "['Trae Young', 0.0002294227579809214]\n",
      "['Jordan Clarkson', 0.00022941911406159252]\n",
      "['Harrison Barnes', 0.00022931094670017912]\n",
      "['Derrick Rose', 0.00022831544848662738]\n",
      "['Ian Clark', 0.0002282251900296109]\n",
      "['Jeff Teague', 0.0002265679250640636]\n",
      "['Kevin Knox', 0.00022571253547021017]\n",
      "['Jeremy Lin', 0.00022449866632503183]\n",
      "['Andrew Wiggins', 0.00022375982407111888]\n",
      "['Cedi Osman', 0.00022281895026800036]\n",
      "['Frank Jackson', 0.00022189423727989993]\n",
      "['Emmanuel Mudiay', 0.0002217857208372394]\n",
      "['Damyean Dotson', 0.00022043304627703008]\n",
      "['Taurean Waller-Prince', 0.00021872699887494517]\n",
      "['Rodney Hood', 0.00021650793181743092]\n",
      "[\"De'Anthony Melton\", 0.00021574529825009881]\n",
      "['Tony Parker', 0.00021540874552349065]\n",
      "['Kris Dunn', 0.00021324162790081698]\n",
      "['Kent Bazemore', 0.00021271192235389156]\n",
      "['Allonzo Trier', 0.0002111709398234793]\n",
      "['Dragan Bender', 0.00020857482121480162]\n",
      "['Chandler Hutchison', 0.00020374158061399407]\n",
      "['Mario Hezonja', 0.00020295643641314774]\n",
      "['Josh Jackson', 0.0002023520311526751]\n",
      "['Jamal Crawford', 0.00019753739776798133]\n",
      "['Wayne Selden', 0.00019720766694975123]\n",
      "['Frank Ntilikina', 0.00019296792948003775]\n",
      "['Élie Okobo', 0.00019195708449626294]\n",
      "['Antonio Blakeney', 0.00018861223886806539]\n",
      "MVP candidate: Giannis Antetokounmpo 1\n",
      "MVP candidate: James Harden 1\n"
     ]
    }
   ],
   "source": [
    "dnn_prob = make_pred(dnn)"
   ]
  }
 ],
 "metadata": {
  "colab": {
   "name": "NBA_MVP_predictions.ipynb",
   "provenance": []
  },
  "kernelspec": {
   "display_name": "Python 3",
   "language": "python",
   "name": "python3"
  },
  "language_info": {
   "codemirror_mode": {
    "name": "ipython",
    "version": 3
   },
   "file_extension": ".py",
   "mimetype": "text/x-python",
   "name": "python",
   "nbconvert_exporter": "python",
   "pygments_lexer": "ipython3",
   "version": "3.8.5"
  }
 },
 "nbformat": 4,
 "nbformat_minor": 1
}
